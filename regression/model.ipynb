{
 "cells": [
  {
   "cell_type": "markdown",
   "metadata": {},
   "source": [
    "## First: tools from the toolbox"
   ]
  },
  {
   "cell_type": "code",
   "execution_count": 24,
   "metadata": {},
   "outputs": [],
   "source": [
    "import pandas as pd\n",
    "import numpy as np\n",
    "import matplotlib.pyplot as plt\n",
    "import seaborn as sns\n",
    "from sklearn.metrics import mean_squared_error, explained_variance_score\n",
    "from sklearn.linear_model import LinearRegression\n",
    "from sklearn.feature_selection import SelectKBest, f_regression\n",
    "\n",
    "import wrangle\n",
    "import split_scale\n",
    "# import features\n",
    "# don't have features yet\n"
   ]
  },
  {
   "cell_type": "markdown",
   "metadata": {},
   "source": [
    "### Acquire and split the data into train and test"
   ]
  },
  {
   "cell_type": "code",
   "execution_count": 25,
   "metadata": {},
   "outputs": [],
   "source": [
    "df = wrangle.wrangle_grades()"
   ]
  },
  {
   "cell_type": "markdown",
   "metadata": {},
   "source": [
    "### 1 - Split the data into train and test datasets"
   ]
  },
  {
   "cell_type": "code",
   "execution_count": 53,
   "metadata": {},
   "outputs": [
    {
     "name": "stdout",
     "output_type": "stream",
     "text": [
      "    student_id  exam1  exam2  exam3\n",
      "83          84     79     70     85\n",
      "10          11     58     65     70\n",
      "55          56     83     80     86\n",
      "43          44     93     90     96\n",
      "23          24     58     65     70\n",
      "    student_id  exam1  exam2  exam3\n",
      "8            9     70     65     78\n",
      "73          74     70     65     78\n",
      "91          92    100     90     95\n",
      "30          31     93     90     96\n",
      "65          66    100     90     95\n",
      "..................................................\n",
      "    final_grade\n",
      "83           81\n",
      "10           68\n",
      "55           85\n",
      "43           97\n",
      "23           68\n",
      "    final_grade\n",
      "8            77\n",
      "73           77\n",
      "91           96\n",
      "30           97\n",
      "65           96\n"
     ]
    }
   ],
   "source": [
    "train, test = split_scale.split_my_data(df)\n",
    "\n",
    "\n",
    "X_train = train.drop(columns=\"final_grade\")\n",
    "y_train = train[[\"final_grade\"]]\n",
    "X_test = test.drop(columns=\"final_grade\")\n",
    "y_test = test[[\"final_grade\"]]\n",
    "\n",
    "print(X_train.head())\n",
    "print(X_test.head())\n",
    "print(\"..................................................\")\n",
    "print(y_train.head())\n",
    "print(y_test.head())"
   ]
  },
  {
   "cell_type": "markdown",
   "metadata": {},
   "source": [
    "### 2 - Create a model that uses exam1 to predict the final grade"
   ]
  },
  {
   "cell_type": "markdown",
   "metadata": {},
   "source": [
    "#### a. SelectK will show us if it chose exam 1"
   ]
  },
  {
   "cell_type": "code",
   "execution_count": 37,
   "metadata": {},
   "outputs": [],
   "source": [
    "# initialize f_selector - this defines the test for scoring and the # of features \n",
    "# (columns) we want to keep.\n",
    "\n",
    "f_selector = SelectKBest(f_regression, k=1)"
   ]
  },
  {
   "cell_type": "code",
   "execution_count": 38,
   "metadata": {},
   "outputs": [
    {
     "name": "stderr",
     "output_type": "stream",
     "text": [
      "/usr/local/anaconda3/lib/python3.7/site-packages/sklearn/utils/validation.py:724: DataConversionWarning: A column-vector y was passed when a 1d array was expected. Please change the shape of y to (n_samples, ), for example using ravel().\n",
      "  y = column_or_1d(y, warn=True)\n"
     ]
    },
    {
     "data": {
      "text/plain": [
       "SelectKBest(k=1, score_func=<function f_regression at 0x12775edd0>)"
      ]
     },
     "execution_count": 38,
     "metadata": {},
     "output_type": "execute_result"
    }
   ],
   "source": [
    "# Next, fit the object to the data\n",
    "# Here, the f_selector is scoring, ranking, and identifying the top features (columns)\n",
    "\n",
    "f_selector.fit(X_train, y_train)"
   ]
  },
  {
   "cell_type": "code",
   "execution_count": 39,
   "metadata": {},
   "outputs": [
    {
     "name": "stdout",
     "output_type": "stream",
     "text": [
      "(76, 4)\n",
      "(76, 1)\n"
     ]
    }
   ],
   "source": [
    "# Now transform the datatset to reduce it to the best k feature, exam 1\n",
    "\n",
    "X_reduced = f_selector.transform(X_train)\n",
    "\n",
    "print(X_train.shape)\n",
    "print(y_train.shape)"
   ]
  },
  {
   "cell_type": "code",
   "execution_count": 41,
   "metadata": {},
   "outputs": [
    {
     "name": "stdout",
     "output_type": "stream",
     "text": [
      "[False  True False False]\n"
     ]
    }
   ],
   "source": [
    "# Let's get an idea of which index was used by repping the columns (features) w/ bools:\n",
    "\n",
    "f_support = f_selector.get_support()\n",
    "\n",
    "print(f_support)"
   ]
  },
  {
   "cell_type": "code",
   "execution_count": 42,
   "metadata": {},
   "outputs": [
    {
     "name": "stdout",
     "output_type": "stream",
     "text": [
      "['exam1']\n"
     ]
    }
   ],
   "source": [
    "# Now we can use .loc with our mask, using '.columns' to get column names and\n",
    "# convert those into a list using '.tolist()':\n",
    "\n",
    "f_feature = X_train.loc[: , f_support].columns.tolist()\n",
    "\n",
    "print(f_feature)"
   ]
  },
  {
   "cell_type": "markdown",
   "metadata": {},
   "source": [
    "### 5 - Create a model that uses exam2 to predict the final grade:"
   ]
  },
  {
   "cell_type": "code",
   "execution_count": 63,
   "metadata": {},
   "outputs": [],
   "source": [
    "# initialize f_selector - this defines the test for scoring and the # of features \n",
    "# (columns) we want to keep.\n",
    "\n",
    "f_selector = SelectKBest(f_regression, k=2)"
   ]
  },
  {
   "cell_type": "code",
   "execution_count": 64,
   "metadata": {},
   "outputs": [
    {
     "name": "stderr",
     "output_type": "stream",
     "text": [
      "/usr/local/anaconda3/lib/python3.7/site-packages/sklearn/utils/validation.py:724: DataConversionWarning: A column-vector y was passed when a 1d array was expected. Please change the shape of y to (n_samples, ), for example using ravel().\n",
      "  y = column_or_1d(y, warn=True)\n"
     ]
    },
    {
     "data": {
      "text/plain": [
       "SelectKBest(k=2, score_func=<function f_regression at 0x12775edd0>)"
      ]
     },
     "execution_count": 64,
     "metadata": {},
     "output_type": "execute_result"
    }
   ],
   "source": [
    "# Next, fit the object to the data\n",
    "# Here, the f_selector is scoring, ranking, and identifying the top features (columns)\n",
    "\n",
    "f_selector.fit(X_train, y_train)"
   ]
  },
  {
   "cell_type": "code",
   "execution_count": 65,
   "metadata": {},
   "outputs": [
    {
     "name": "stdout",
     "output_type": "stream",
     "text": [
      "(76, 4)\n",
      "(76, 1)\n"
     ]
    }
   ],
   "source": [
    "# Now transform the datatset to reduce it to the best k features, exam1 and exam3\n",
    "\n",
    "X_reduced = f_selector.transform(X_train)\n",
    "\n",
    "print(X_train.shape)\n",
    "print(y_train.shape)"
   ]
  },
  {
   "cell_type": "code",
   "execution_count": 66,
   "metadata": {},
   "outputs": [
    {
     "name": "stdout",
     "output_type": "stream",
     "text": [
      "[False  True False  True]\n"
     ]
    }
   ],
   "source": [
    "# Let's get an idea of which index was used by repping the columns (features) w/ bools:\n",
    "\n",
    "f_support = f_selector.get_support()\n",
    "\n",
    "print(f_support)"
   ]
  },
  {
   "cell_type": "code",
   "execution_count": 69,
   "metadata": {},
   "outputs": [
    {
     "name": "stdout",
     "output_type": "stream",
     "text": [
      "['exam1', 'exam3']\n"
     ]
    }
   ],
   "source": [
    "# Now we can use .loc with our mask, using '.columns' to get column names and\n",
    "# convert those into a list using '.tolist()':\n",
    "\n",
    "f_feature = X_train.loc[: , f_support].columns.tolist()\n",
    "\n",
    "print(f_feature)"
   ]
  },
  {
   "cell_type": "code",
   "execution_count": 28,
   "metadata": {},
   "outputs": [
    {
     "name": "stderr",
     "output_type": "stream",
     "text": [
      "/usr/local/anaconda3/lib/python3.7/site-packages/sklearn/utils/validation.py:724: DataConversionWarning: A column-vector y was passed when a 1d array was expected. Please change the shape of y to (n_samples, ), for example using ravel().\n",
      "  y = column_or_1d(y, warn=True)\n"
     ]
    }
   ],
   "source": [
    "lm = LinearRegression()\n",
    "\n",
    "rfe = RFE(lm, 2)\n",
    "\n",
    "# Transform data using RFE:\n",
    "\n",
    "X_rfe = rfe.fit_transform(X_train, y_train)"
   ]
  },
  {
   "cell_type": "markdown",
   "metadata": {},
   "source": [
    "#### b. Get the list of feature names that were selected so we have some context "
   ]
  },
  {
   "cell_type": "code",
   "execution_count": 13,
   "metadata": {},
   "outputs": [
    {
     "name": "stdout",
     "output_type": "stream",
     "text": [
      "Selected 2 features:  exam1, exam3\n"
     ]
    }
   ],
   "source": [
    "# Mask up!\n",
    "\n",
    "mask = rfe.support_\n",
    "\n",
    "# Get the column names of the features that were selected and turn them into a list:\n",
    "\n",
    "rfe_features = X_train.columns[mask]\n",
    "\n",
    "# print them out\n",
    "\n",
    "print(f\"Selected {len(rfe_features)} features: \", \", \".join(rfe_features))"
   ]
  },
  {
   "cell_type": "markdown",
   "metadata": {},
   "source": [
    "#### Initialize the ML Algorithm Object.  Did that above, but not sure if that's the best one"
   ]
  },
  {
   "cell_type": "code",
   "execution_count": 14,
   "metadata": {},
   "outputs": [
    {
     "data": {
      "text/plain": [
       "LinearRegression(copy_X=True, fit_intercept=True, n_jobs=None, normalize=False)"
      ]
     },
     "execution_count": 14,
     "metadata": {},
     "output_type": "execute_result"
    }
   ],
   "source": [
    "lm = LinearRegression()\n",
    "lm"
   ]
  },
  {
   "cell_type": "markdown",
   "metadata": {},
   "source": [
    "#### Next, fit the model by feeding the training data into the models, and getting the \"learned\" parameters returned"
   ]
  },
  {
   "cell_type": "code",
   "execution_count": 15,
   "metadata": {},
   "outputs": [
    {
     "data": {
      "text/plain": [
       "LinearRegression(copy_X=True, fit_intercept=True, n_jobs=None, normalize=False)"
      ]
     },
     "execution_count": 15,
     "metadata": {},
     "output_type": "execute_result"
    }
   ],
   "source": [
    "# Fitting data to the model:\n",
    "\n",
    "lm.fit(X_rfe, y_train)"
   ]
  },
  {
   "cell_type": "code",
   "execution_count": 17,
   "metadata": {},
   "outputs": [
    {
     "name": "stdout",
     "output_type": "stream",
     "text": [
      "Linear Model: LinearRegression(copy_X=True, fit_intercept=True, n_jobs=None, normalize=False)\n",
      "Intercept:  [11.54460153]\n",
      "Features:  Index(['exam1', 'exam3'], dtype='object')\n",
      "Coefficients:  [[0.60003062 0.27533144]]\n"
     ]
    }
   ],
   "source": [
    "# Let's take a look at the parameters (the y-intercepts and coefficients) the\n",
    "# the Linear Regression model calculated:\n",
    "\n",
    "print(\"Linear Model:\", lm)\n",
    "\n",
    "print(\"Intercept: \", lm.intercept_)\n",
    "\n",
    "print(\"Features: \", rfe_features)\n",
    "\n",
    "print(\"Coefficients: \", lm.coef_)"
   ]
  },
  {
   "cell_type": "code",
   "execution_count": 18,
   "metadata": {},
   "outputs": [],
   "source": [
    "predict = \"final_grade\""
   ]
  }
 ],
 "metadata": {
  "kernelspec": {
   "display_name": "Python 3",
   "language": "python",
   "name": "python3"
  },
  "language_info": {
   "codemirror_mode": {
    "name": "ipython",
    "version": 3
   },
   "file_extension": ".py",
   "mimetype": "text/x-python",
   "name": "python",
   "nbconvert_exporter": "python",
   "pygments_lexer": "ipython3",
   "version": "3.7.4"
  }
 },
 "nbformat": 4,
 "nbformat_minor": 2
}
