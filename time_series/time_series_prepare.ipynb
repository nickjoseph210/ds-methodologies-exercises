{
 "cells": [
  {
   "cell_type": "code",
   "execution_count": 1,
   "metadata": {},
   "outputs": [],
   "source": [
    "import pandas as pd\n",
    "from datetime import timedelta, datetime\n",
    "import numpy as np\n",
    "import matplotlib.pyplot as plt\n",
    "\n",
    "%matplotlib inline\n",
    "import warnings \n",
    "warnings.filterwarnings(\"ignore\")\n",
    "\n",
    "import os\n",
    "\n",
    "import acquire"
   ]
  },
  {
   "cell_type": "code",
   "execution_count": 2,
   "metadata": {},
   "outputs": [
    {
     "data": {
      "text/html": [
       "<div>\n",
       "<style scoped>\n",
       "    .dataframe tbody tr th:only-of-type {\n",
       "        vertical-align: middle;\n",
       "    }\n",
       "\n",
       "    .dataframe tbody tr th {\n",
       "        vertical-align: top;\n",
       "    }\n",
       "\n",
       "    .dataframe thead th {\n",
       "        text-align: right;\n",
       "    }\n",
       "</style>\n",
       "<table border=\"1\" class=\"dataframe\">\n",
       "  <thead>\n",
       "    <tr style=\"text-align: right;\">\n",
       "      <th></th>\n",
       "      <th>sale_amount</th>\n",
       "      <th>sale_date</th>\n",
       "      <th>sale_id</th>\n",
       "      <th>store_address</th>\n",
       "      <th>store_city</th>\n",
       "      <th>store_id</th>\n",
       "      <th>store_state</th>\n",
       "      <th>store_zipcode</th>\n",
       "      <th>item_brand</th>\n",
       "      <th>item_id</th>\n",
       "      <th>item_name</th>\n",
       "      <th>item_price</th>\n",
       "      <th>item_upc12</th>\n",
       "      <th>item_upc14</th>\n",
       "    </tr>\n",
       "  </thead>\n",
       "  <tbody>\n",
       "    <tr>\n",
       "      <th>0</th>\n",
       "      <td>13.0</td>\n",
       "      <td>2013-01-01 00:00:00+00:00</td>\n",
       "      <td>1</td>\n",
       "      <td>12125 Alamo Ranch Pkwy</td>\n",
       "      <td>San Antonio</td>\n",
       "      <td>1</td>\n",
       "      <td>TX</td>\n",
       "      <td>78253</td>\n",
       "      <td>Riceland</td>\n",
       "      <td>1</td>\n",
       "      <td>Riceland American Jazmine Rice</td>\n",
       "      <td>0.84</td>\n",
       "      <td>35200264013</td>\n",
       "      <td>35200264013</td>\n",
       "    </tr>\n",
       "    <tr>\n",
       "      <th>1</th>\n",
       "      <td>11.0</td>\n",
       "      <td>2013-01-02 00:00:00+00:00</td>\n",
       "      <td>2</td>\n",
       "      <td>12125 Alamo Ranch Pkwy</td>\n",
       "      <td>San Antonio</td>\n",
       "      <td>1</td>\n",
       "      <td>TX</td>\n",
       "      <td>78253</td>\n",
       "      <td>Riceland</td>\n",
       "      <td>1</td>\n",
       "      <td>Riceland American Jazmine Rice</td>\n",
       "      <td>0.84</td>\n",
       "      <td>35200264013</td>\n",
       "      <td>35200264013</td>\n",
       "    </tr>\n",
       "    <tr>\n",
       "      <th>2</th>\n",
       "      <td>14.0</td>\n",
       "      <td>2013-01-03 00:00:00+00:00</td>\n",
       "      <td>3</td>\n",
       "      <td>12125 Alamo Ranch Pkwy</td>\n",
       "      <td>San Antonio</td>\n",
       "      <td>1</td>\n",
       "      <td>TX</td>\n",
       "      <td>78253</td>\n",
       "      <td>Riceland</td>\n",
       "      <td>1</td>\n",
       "      <td>Riceland American Jazmine Rice</td>\n",
       "      <td>0.84</td>\n",
       "      <td>35200264013</td>\n",
       "      <td>35200264013</td>\n",
       "    </tr>\n",
       "    <tr>\n",
       "      <th>3</th>\n",
       "      <td>13.0</td>\n",
       "      <td>2013-01-04 00:00:00+00:00</td>\n",
       "      <td>4</td>\n",
       "      <td>12125 Alamo Ranch Pkwy</td>\n",
       "      <td>San Antonio</td>\n",
       "      <td>1</td>\n",
       "      <td>TX</td>\n",
       "      <td>78253</td>\n",
       "      <td>Riceland</td>\n",
       "      <td>1</td>\n",
       "      <td>Riceland American Jazmine Rice</td>\n",
       "      <td>0.84</td>\n",
       "      <td>35200264013</td>\n",
       "      <td>35200264013</td>\n",
       "    </tr>\n",
       "    <tr>\n",
       "      <th>4</th>\n",
       "      <td>10.0</td>\n",
       "      <td>2013-01-05 00:00:00+00:00</td>\n",
       "      <td>5</td>\n",
       "      <td>12125 Alamo Ranch Pkwy</td>\n",
       "      <td>San Antonio</td>\n",
       "      <td>1</td>\n",
       "      <td>TX</td>\n",
       "      <td>78253</td>\n",
       "      <td>Riceland</td>\n",
       "      <td>1</td>\n",
       "      <td>Riceland American Jazmine Rice</td>\n",
       "      <td>0.84</td>\n",
       "      <td>35200264013</td>\n",
       "      <td>35200264013</td>\n",
       "    </tr>\n",
       "  </tbody>\n",
       "</table>\n",
       "</div>"
      ],
      "text/plain": [
       "   sale_amount                  sale_date  sale_id           store_address  \\\n",
       "0         13.0  2013-01-01 00:00:00+00:00        1  12125 Alamo Ranch Pkwy   \n",
       "1         11.0  2013-01-02 00:00:00+00:00        2  12125 Alamo Ranch Pkwy   \n",
       "2         14.0  2013-01-03 00:00:00+00:00        3  12125 Alamo Ranch Pkwy   \n",
       "3         13.0  2013-01-04 00:00:00+00:00        4  12125 Alamo Ranch Pkwy   \n",
       "4         10.0  2013-01-05 00:00:00+00:00        5  12125 Alamo Ranch Pkwy   \n",
       "\n",
       "    store_city  store_id store_state  store_zipcode item_brand  item_id  \\\n",
       "0  San Antonio         1          TX          78253   Riceland        1   \n",
       "1  San Antonio         1          TX          78253   Riceland        1   \n",
       "2  San Antonio         1          TX          78253   Riceland        1   \n",
       "3  San Antonio         1          TX          78253   Riceland        1   \n",
       "4  San Antonio         1          TX          78253   Riceland        1   \n",
       "\n",
       "                        item_name  item_price   item_upc12   item_upc14  \n",
       "0  Riceland American Jazmine Rice        0.84  35200264013  35200264013  \n",
       "1  Riceland American Jazmine Rice        0.84  35200264013  35200264013  \n",
       "2  Riceland American Jazmine Rice        0.84  35200264013  35200264013  \n",
       "3  Riceland American Jazmine Rice        0.84  35200264013  35200264013  \n",
       "4  Riceland American Jazmine Rice        0.84  35200264013  35200264013  "
      ]
     },
     "execution_count": 2,
     "metadata": {},
     "output_type": "execute_result"
    }
   ],
   "source": [
    "# Acquire the data\n",
    "\n",
    "df = acquire.get_store_data()\n",
    "df.head(5)"
   ]
  },
  {
   "cell_type": "code",
   "execution_count": 3,
   "metadata": {},
   "outputs": [
    {
     "data": {
      "text/plain": [
       "(913000, 14)"
      ]
     },
     "execution_count": 3,
     "metadata": {},
     "output_type": "execute_result"
    }
   ],
   "source": [
    "# Get a sense of the shape of the data\n",
    "df.shape"
   ]
  },
  {
   "cell_type": "code",
   "execution_count": 4,
   "metadata": {},
   "outputs": [
    {
     "data": {
      "text/plain": [
       "sale_amount      0\n",
       "sale_date        0\n",
       "sale_id          0\n",
       "store_address    0\n",
       "store_city       0\n",
       "store_id         0\n",
       "store_state      0\n",
       "store_zipcode    0\n",
       "item_brand       0\n",
       "item_id          0\n",
       "item_name        0\n",
       "item_price       0\n",
       "item_upc12       0\n",
       "item_upc14       0\n",
       "dtype: int64"
      ]
     },
     "execution_count": 4,
     "metadata": {},
     "output_type": "execute_result"
    }
   ],
   "source": [
    "# Check for nulls\n",
    "\n",
    "df.isnull().sum()"
   ]
  },
  {
   "cell_type": "code",
   "execution_count": 5,
   "metadata": {},
   "outputs": [
    {
     "data": {
      "text/plain": [
       "array([ 1,  2,  3,  4,  5,  6,  7,  8,  9, 10])"
      ]
     },
     "execution_count": 5,
     "metadata": {},
     "output_type": "execute_result"
    }
   ],
   "source": [
    "# Wow.  Squeaky clean.  Now, check for the number of unique store ids\n",
    "df.store_id.unique()"
   ]
  },
  {
   "cell_type": "code",
   "execution_count": 6,
   "metadata": {},
   "outputs": [
    {
     "data": {
      "text/plain": [
       "array([ 1,  2,  3,  4,  5,  6,  7,  8,  9, 10, 11, 12, 13, 14, 15, 16, 17,\n",
       "       18, 19, 20, 21, 22, 23, 24, 25, 26, 27, 28, 29, 30, 31, 32, 33, 34,\n",
       "       35, 36, 37, 38, 39, 40, 41, 42, 43, 44, 45, 46, 47, 48, 49, 50])"
      ]
     },
     "execution_count": 6,
     "metadata": {},
     "output_type": "execute_result"
    }
   ],
   "source": [
    "# Check for the number of unique items in the stores\n",
    "df.item_id.unique()"
   ]
  },
  {
   "cell_type": "code",
   "execution_count": 7,
   "metadata": {},
   "outputs": [
    {
     "data": {
      "text/plain": [
       "array([0.84, 6.44, 2.43, 3.14, 2.61, 6.93, 9.64, 1.68, 1.79, 3.17, 3.93,\n",
       "       8.4 , 6.47, 7.54, 9.11, 5.17, 1.16, 4.39, 0.74, 5.62, 8.09, 7.31,\n",
       "       1.78, 5.34, 0.98, 6.01, 7.52, 8.65, 8.39, 4.21, 0.68, 6.52, 4.17,\n",
       "       5.19, 7.95, 9.59, 3.45, 9.02, 0.6 , 2.97, 7.06, 4.4 , 4.65, 7.38,\n",
       "       3.72, 9.54, 5.2 ])"
      ]
     },
     "execution_count": 7,
     "metadata": {},
     "output_type": "execute_result"
    }
   ],
   "source": [
    "# Find out how many of the prices are unique\n",
    "df.item_price.unique()"
   ]
  },
  {
   "cell_type": "code",
   "execution_count": 8,
   "metadata": {},
   "outputs": [
    {
     "data": {
      "text/plain": [
       "(1826,)"
      ]
     },
     "execution_count": 8,
     "metadata": {},
     "output_type": "execute_result"
    }
   ],
   "source": [
    "# Find out how many unique sale dates\n",
    "df.sale_date.unique().shape"
   ]
  },
  {
   "cell_type": "code",
   "execution_count": 9,
   "metadata": {},
   "outputs": [
    {
     "data": {
      "text/plain": [
       "231.0"
      ]
     },
     "execution_count": 9,
     "metadata": {},
     "output_type": "execute_result"
    }
   ],
   "source": [
    "# max sales amount\n",
    "df.sale_amount.max()"
   ]
  },
  {
   "cell_type": "code",
   "execution_count": 10,
   "metadata": {},
   "outputs": [
    {
     "data": {
      "text/plain": [
       "0.0"
      ]
     },
     "execution_count": 10,
     "metadata": {},
     "output_type": "execute_result"
    }
   ],
   "source": [
    "# min sales amount\n",
    "df.sale_amount.min()"
   ]
  },
  {
   "cell_type": "code",
   "execution_count": 11,
   "metadata": {},
   "outputs": [
    {
     "name": "stdout",
     "output_type": "stream",
     "text": [
      "<class 'pandas.core.frame.DataFrame'>\n",
      "Int64Index: 913000 entries, 0 to 912999\n",
      "Data columns (total 14 columns):\n",
      "sale_amount      913000 non-null float64\n",
      "sale_date        913000 non-null object\n",
      "sale_id          913000 non-null int64\n",
      "store_address    913000 non-null object\n",
      "store_city       913000 non-null object\n",
      "store_id         913000 non-null int64\n",
      "store_state      913000 non-null object\n",
      "store_zipcode    913000 non-null int64\n",
      "item_brand       913000 non-null object\n",
      "item_id          913000 non-null int64\n",
      "item_name        913000 non-null object\n",
      "item_price       913000 non-null float64\n",
      "item_upc12       913000 non-null int64\n",
      "item_upc14       913000 non-null int64\n",
      "dtypes: float64(2), int64(6), object(6)\n",
      "memory usage: 104.5+ MB\n"
     ]
    }
   ],
   "source": [
    "# check the dtypes of all the columns\n",
    "df.info()"
   ]
  },
  {
   "cell_type": "markdown",
   "metadata": {},
   "source": [
    "### Takeaways:\n",
    "\n",
    "- No missing values\n",
    "- 913K rows, 913K unique sale_ids\n",
    "- store_id ranges from 1 to 10\n",
    "- item_id ranges from 1 to 50\n",
    "- looking at the quartile values, it appears each id is represented equally throughout our data\n",
    "- there are 1826 unique days in our data\n",
    "- sales amounts range from 0 dollars to 231 dollars"
   ]
  },
  {
   "cell_type": "markdown",
   "metadata": {},
   "source": [
    "## Prepare Stage\n",
    "\n",
    "1.) Specify the column(s) that are datetimes and use pd.to_datetime() to convert them;\n",
    "\n",
    "2.) Sort values by sale_date (so the observations are in order); and\n",
    "\n",
    "3.) Use set.index to specify the sale_date column as the row index"
   ]
  },
  {
   "cell_type": "code",
   "execution_count": 12,
   "metadata": {},
   "outputs": [],
   "source": [
    "# Reassign the sale_date column to be a datetime type (right now, it's an object)\n",
    "df[\"sale_date\"] = pd.to_datetime(df[\"sale_date\"])"
   ]
  },
  {
   "cell_type": "code",
   "execution_count": 13,
   "metadata": {},
   "outputs": [
    {
     "name": "stdout",
     "output_type": "stream",
     "text": [
      "<class 'pandas.core.frame.DataFrame'>\n",
      "Int64Index: 913000 entries, 0 to 912999\n",
      "Data columns (total 14 columns):\n",
      "sale_amount      913000 non-null float64\n",
      "sale_date        913000 non-null datetime64[ns, UTC]\n",
      "sale_id          913000 non-null int64\n",
      "store_address    913000 non-null object\n",
      "store_city       913000 non-null object\n",
      "store_id         913000 non-null int64\n",
      "store_state      913000 non-null object\n",
      "store_zipcode    913000 non-null int64\n",
      "item_brand       913000 non-null object\n",
      "item_id          913000 non-null int64\n",
      "item_name        913000 non-null object\n",
      "item_price       913000 non-null float64\n",
      "item_upc12       913000 non-null int64\n",
      "item_upc14       913000 non-null int64\n",
      "dtypes: datetime64[ns, UTC](1), float64(2), int64(6), object(5)\n",
      "memory usage: 104.5+ MB\n"
     ]
    }
   ],
   "source": [
    "# Check to see that it's done:\n",
    "df.info()"
   ]
  },
  {
   "cell_type": "code",
   "execution_count": 14,
   "metadata": {},
   "outputs": [],
   "source": [
    "# Checks out!  Now, sort rows by the sale_date and then set the index as that date\n",
    "df = df.sort_values(\"sale_date\").set_index(\"sale_date\")\n",
    "\n",
    "# sort the df by 'sale_date', and set the index to be 'sale_date'"
   ]
  },
  {
   "cell_type": "code",
   "execution_count": 15,
   "metadata": {},
   "outputs": [
    {
     "data": {
      "text/html": [
       "<div>\n",
       "<style scoped>\n",
       "    .dataframe tbody tr th:only-of-type {\n",
       "        vertical-align: middle;\n",
       "    }\n",
       "\n",
       "    .dataframe tbody tr th {\n",
       "        vertical-align: top;\n",
       "    }\n",
       "\n",
       "    .dataframe thead th {\n",
       "        text-align: right;\n",
       "    }\n",
       "</style>\n",
       "<table border=\"1\" class=\"dataframe\">\n",
       "  <thead>\n",
       "    <tr style=\"text-align: right;\">\n",
       "      <th></th>\n",
       "      <th>sale_amount</th>\n",
       "      <th>sale_id</th>\n",
       "      <th>store_address</th>\n",
       "      <th>store_city</th>\n",
       "      <th>store_id</th>\n",
       "      <th>store_state</th>\n",
       "      <th>store_zipcode</th>\n",
       "      <th>item_brand</th>\n",
       "      <th>item_id</th>\n",
       "      <th>item_name</th>\n",
       "      <th>item_price</th>\n",
       "      <th>item_upc12</th>\n",
       "      <th>item_upc14</th>\n",
       "    </tr>\n",
       "    <tr>\n",
       "      <th>sale_date</th>\n",
       "      <th></th>\n",
       "      <th></th>\n",
       "      <th></th>\n",
       "      <th></th>\n",
       "      <th></th>\n",
       "      <th></th>\n",
       "      <th></th>\n",
       "      <th></th>\n",
       "      <th></th>\n",
       "      <th></th>\n",
       "      <th></th>\n",
       "      <th></th>\n",
       "      <th></th>\n",
       "    </tr>\n",
       "  </thead>\n",
       "  <tbody>\n",
       "    <tr>\n",
       "      <th>2013-01-01 00:00:00+00:00</th>\n",
       "      <td>13.0</td>\n",
       "      <td>1</td>\n",
       "      <td>12125 Alamo Ranch Pkwy</td>\n",
       "      <td>San Antonio</td>\n",
       "      <td>1</td>\n",
       "      <td>TX</td>\n",
       "      <td>78253</td>\n",
       "      <td>Riceland</td>\n",
       "      <td>1</td>\n",
       "      <td>Riceland American Jazmine Rice</td>\n",
       "      <td>0.84</td>\n",
       "      <td>35200264013</td>\n",
       "      <td>35200264013</td>\n",
       "    </tr>\n",
       "    <tr>\n",
       "      <th>2013-01-01 00:00:00+00:00</th>\n",
       "      <td>26.0</td>\n",
       "      <td>211817</td>\n",
       "      <td>12018 Perrin Beitel Rd</td>\n",
       "      <td>San Antonio</td>\n",
       "      <td>7</td>\n",
       "      <td>TX</td>\n",
       "      <td>78217</td>\n",
       "      <td>Mueller</td>\n",
       "      <td>12</td>\n",
       "      <td>Mueller Sport Care Basic Support Level Medium ...</td>\n",
       "      <td>8.40</td>\n",
       "      <td>74676640211</td>\n",
       "      <td>74676640211</td>\n",
       "    </tr>\n",
       "    <tr>\n",
       "      <th>2013-01-01 00:00:00+00:00</th>\n",
       "      <td>27.0</td>\n",
       "      <td>832657</td>\n",
       "      <td>12018 Perrin Beitel Rd</td>\n",
       "      <td>San Antonio</td>\n",
       "      <td>7</td>\n",
       "      <td>TX</td>\n",
       "      <td>78217</td>\n",
       "      <td>Mama Marys</td>\n",
       "      <td>46</td>\n",
       "      <td>Pizza Sauce</td>\n",
       "      <td>4.65</td>\n",
       "      <td>35457770664</td>\n",
       "      <td>35457770664</td>\n",
       "    </tr>\n",
       "    <tr>\n",
       "      <th>2013-01-01 00:00:00+00:00</th>\n",
       "      <td>54.0</td>\n",
       "      <td>213643</td>\n",
       "      <td>15000 San Pedro Ave</td>\n",
       "      <td>San Antonio</td>\n",
       "      <td>8</td>\n",
       "      <td>TX</td>\n",
       "      <td>78232</td>\n",
       "      <td>Mueller</td>\n",
       "      <td>12</td>\n",
       "      <td>Mueller Sport Care Basic Support Level Medium ...</td>\n",
       "      <td>8.40</td>\n",
       "      <td>74676640211</td>\n",
       "      <td>74676640211</td>\n",
       "    </tr>\n",
       "    <tr>\n",
       "      <th>2013-01-01 00:00:00+00:00</th>\n",
       "      <td>35.0</td>\n",
       "      <td>215469</td>\n",
       "      <td>735 SW Military Dr</td>\n",
       "      <td>San Antonio</td>\n",
       "      <td>9</td>\n",
       "      <td>TX</td>\n",
       "      <td>78221</td>\n",
       "      <td>Mueller</td>\n",
       "      <td>12</td>\n",
       "      <td>Mueller Sport Care Basic Support Level Medium ...</td>\n",
       "      <td>8.40</td>\n",
       "      <td>74676640211</td>\n",
       "      <td>74676640211</td>\n",
       "    </tr>\n",
       "  </tbody>\n",
       "</table>\n",
       "</div>"
      ],
      "text/plain": [
       "                           sale_amount  sale_id           store_address  \\\n",
       "sale_date                                                                 \n",
       "2013-01-01 00:00:00+00:00         13.0        1  12125 Alamo Ranch Pkwy   \n",
       "2013-01-01 00:00:00+00:00         26.0   211817  12018 Perrin Beitel Rd   \n",
       "2013-01-01 00:00:00+00:00         27.0   832657  12018 Perrin Beitel Rd   \n",
       "2013-01-01 00:00:00+00:00         54.0   213643     15000 San Pedro Ave   \n",
       "2013-01-01 00:00:00+00:00         35.0   215469      735 SW Military Dr   \n",
       "\n",
       "                            store_city  store_id store_state  store_zipcode  \\\n",
       "sale_date                                                                     \n",
       "2013-01-01 00:00:00+00:00  San Antonio         1          TX          78253   \n",
       "2013-01-01 00:00:00+00:00  San Antonio         7          TX          78217   \n",
       "2013-01-01 00:00:00+00:00  San Antonio         7          TX          78217   \n",
       "2013-01-01 00:00:00+00:00  San Antonio         8          TX          78232   \n",
       "2013-01-01 00:00:00+00:00  San Antonio         9          TX          78221   \n",
       "\n",
       "                           item_brand  item_id  \\\n",
       "sale_date                                        \n",
       "2013-01-01 00:00:00+00:00    Riceland        1   \n",
       "2013-01-01 00:00:00+00:00     Mueller       12   \n",
       "2013-01-01 00:00:00+00:00  Mama Marys       46   \n",
       "2013-01-01 00:00:00+00:00     Mueller       12   \n",
       "2013-01-01 00:00:00+00:00     Mueller       12   \n",
       "\n",
       "                                                                   item_name  \\\n",
       "sale_date                                                                      \n",
       "2013-01-01 00:00:00+00:00                     Riceland American Jazmine Rice   \n",
       "2013-01-01 00:00:00+00:00  Mueller Sport Care Basic Support Level Medium ...   \n",
       "2013-01-01 00:00:00+00:00                                        Pizza Sauce   \n",
       "2013-01-01 00:00:00+00:00  Mueller Sport Care Basic Support Level Medium ...   \n",
       "2013-01-01 00:00:00+00:00  Mueller Sport Care Basic Support Level Medium ...   \n",
       "\n",
       "                           item_price   item_upc12   item_upc14  \n",
       "sale_date                                                        \n",
       "2013-01-01 00:00:00+00:00        0.84  35200264013  35200264013  \n",
       "2013-01-01 00:00:00+00:00        8.40  74676640211  74676640211  \n",
       "2013-01-01 00:00:00+00:00        4.65  35457770664  35457770664  \n",
       "2013-01-01 00:00:00+00:00        8.40  74676640211  74676640211  \n",
       "2013-01-01 00:00:00+00:00        8.40  74676640211  74676640211  "
      ]
     },
     "execution_count": 15,
     "metadata": {},
     "output_type": "execute_result"
    }
   ],
   "source": [
    "df.head(5)"
   ]
  },
  {
   "cell_type": "markdown",
   "metadata": {},
   "source": [
    "### Takeaway: each row is the sale of an specific item at an individual store.  However, just because it's on a different row does not mean it's a different date - different rows have the same date."
   ]
  },
  {
   "cell_type": "code",
   "execution_count": 16,
   "metadata": {},
   "outputs": [
    {
     "data": {
      "text/plain": [
       "(913000, 913000)"
      ]
     },
     "execution_count": 16,
     "metadata": {},
     "output_type": "execute_result"
    }
   ],
   "source": [
    "df.shape[0], df.sale_id.nunique()"
   ]
  },
  {
   "cell_type": "markdown",
   "metadata": {},
   "source": [
    "**^ This tells us that there are 913K rows and 913K unique sale ids**"
   ]
  },
  {
   "cell_type": "markdown",
   "metadata": {},
   "source": [
    "## Notice: \n",
    "\n",
    "- each sale_id references a given number of item_names sold at a specific store on a specific day\n",
    "\n",
    "- each row represents the quantity of a specific item_name sold each day at a specific store\n",
    "\n",
    "- but what does 'a sale' mean?  Make sure everybody (all departments) are on the same page as to its definition.  What I think a 'sale' is may not be how the Warehouse defines a 'sale.'"
   ]
  },
  {
   "cell_type": "code",
   "execution_count": 17,
   "metadata": {},
   "outputs": [
    {
     "data": {
      "text/html": [
       "<div>\n",
       "<style scoped>\n",
       "    .dataframe tbody tr th:only-of-type {\n",
       "        vertical-align: middle;\n",
       "    }\n",
       "\n",
       "    .dataframe tbody tr th {\n",
       "        vertical-align: top;\n",
       "    }\n",
       "\n",
       "    .dataframe thead th {\n",
       "        text-align: right;\n",
       "    }\n",
       "</style>\n",
       "<table border=\"1\" class=\"dataframe\">\n",
       "  <thead>\n",
       "    <tr style=\"text-align: right;\">\n",
       "      <th></th>\n",
       "      <th>sale_amount</th>\n",
       "      <th>sale_id</th>\n",
       "      <th>store_address</th>\n",
       "      <th>store_city</th>\n",
       "      <th>store_id</th>\n",
       "      <th>store_state</th>\n",
       "      <th>store_zipcode</th>\n",
       "      <th>item_brand</th>\n",
       "      <th>item_id</th>\n",
       "      <th>item_name</th>\n",
       "      <th>item_price</th>\n",
       "      <th>item_upc12</th>\n",
       "      <th>item_upc14</th>\n",
       "    </tr>\n",
       "    <tr>\n",
       "      <th>sale_date</th>\n",
       "      <th></th>\n",
       "      <th></th>\n",
       "      <th></th>\n",
       "      <th></th>\n",
       "      <th></th>\n",
       "      <th></th>\n",
       "      <th></th>\n",
       "      <th></th>\n",
       "      <th></th>\n",
       "      <th></th>\n",
       "      <th></th>\n",
       "      <th></th>\n",
       "      <th></th>\n",
       "    </tr>\n",
       "  </thead>\n",
       "  <tbody>\n",
       "    <tr>\n",
       "      <th>2013-01-23 00:00:00+00:00</th>\n",
       "      <td>28.0</td>\n",
       "      <td>392613</td>\n",
       "      <td>1015 S WW White Rd</td>\n",
       "      <td>San Antonio</td>\n",
       "      <td>6</td>\n",
       "      <td>TX</td>\n",
       "      <td>78220</td>\n",
       "      <td>Betty Crocker</td>\n",
       "      <td>22</td>\n",
       "      <td>Betty Crocker Twin Pack Real Potatoes Scallope...</td>\n",
       "      <td>7.31</td>\n",
       "      <td>16000288829</td>\n",
       "      <td>16000288829</td>\n",
       "    </tr>\n",
       "    <tr>\n",
       "      <th>2013-01-23 00:00:00+00:00</th>\n",
       "      <td>21.0</td>\n",
       "      <td>558779</td>\n",
       "      <td>12018 Perrin Beitel Rd</td>\n",
       "      <td>San Antonio</td>\n",
       "      <td>7</td>\n",
       "      <td>TX</td>\n",
       "      <td>78217</td>\n",
       "      <td>Zhenas Gypsy Tea</td>\n",
       "      <td>31</td>\n",
       "      <td>Zhenas Gypsy Tea Herbal Red Tea Sachets Fire L...</td>\n",
       "      <td>4.21</td>\n",
       "      <td>652790100226</td>\n",
       "      <td>652790100226</td>\n",
       "    </tr>\n",
       "    <tr>\n",
       "      <th>2013-01-23 00:00:00+00:00</th>\n",
       "      <td>30.0</td>\n",
       "      <td>151581</td>\n",
       "      <td>516 S Flores St</td>\n",
       "      <td>San Antonio</td>\n",
       "      <td>4</td>\n",
       "      <td>TX</td>\n",
       "      <td>78204</td>\n",
       "      <td>Van De Kamps</td>\n",
       "      <td>9</td>\n",
       "      <td>Van De Kamps Fillets Beer Battered - 10 Ct</td>\n",
       "      <td>1.79</td>\n",
       "      <td>19600923015</td>\n",
       "      <td>19600923015</td>\n",
       "    </tr>\n",
       "    <tr>\n",
       "      <th>2013-01-23 00:00:00+00:00</th>\n",
       "      <td>35.0</td>\n",
       "      <td>549649</td>\n",
       "      <td>9255 FM 471 West</td>\n",
       "      <td>San Antonio</td>\n",
       "      <td>2</td>\n",
       "      <td>TX</td>\n",
       "      <td>78251</td>\n",
       "      <td>Zhenas Gypsy Tea</td>\n",
       "      <td>31</td>\n",
       "      <td>Zhenas Gypsy Tea Herbal Red Tea Sachets Fire L...</td>\n",
       "      <td>4.21</td>\n",
       "      <td>652790100226</td>\n",
       "      <td>652790100226</td>\n",
       "    </tr>\n",
       "    <tr>\n",
       "      <th>2013-01-23 00:00:00+00:00</th>\n",
       "      <td>22.0</td>\n",
       "      <td>471131</td>\n",
       "      <td>735 SW Military Dr</td>\n",
       "      <td>San Antonio</td>\n",
       "      <td>9</td>\n",
       "      <td>TX</td>\n",
       "      <td>78221</td>\n",
       "      <td>Triaminic</td>\n",
       "      <td>26</td>\n",
       "      <td>Triaminic Syrup Night Time Cold &amp; Cough Grape 4oz</td>\n",
       "      <td>0.98</td>\n",
       "      <td>300436344045</td>\n",
       "      <td>300436344045</td>\n",
       "    </tr>\n",
       "  </tbody>\n",
       "</table>\n",
       "</div>"
      ],
      "text/plain": [
       "                           sale_amount  sale_id           store_address  \\\n",
       "sale_date                                                                 \n",
       "2013-01-23 00:00:00+00:00         28.0   392613      1015 S WW White Rd   \n",
       "2013-01-23 00:00:00+00:00         21.0   558779  12018 Perrin Beitel Rd   \n",
       "2013-01-23 00:00:00+00:00         30.0   151581         516 S Flores St   \n",
       "2013-01-23 00:00:00+00:00         35.0   549649        9255 FM 471 West   \n",
       "2013-01-23 00:00:00+00:00         22.0   471131      735 SW Military Dr   \n",
       "\n",
       "                            store_city  store_id store_state  store_zipcode  \\\n",
       "sale_date                                                                     \n",
       "2013-01-23 00:00:00+00:00  San Antonio         6          TX          78220   \n",
       "2013-01-23 00:00:00+00:00  San Antonio         7          TX          78217   \n",
       "2013-01-23 00:00:00+00:00  San Antonio         4          TX          78204   \n",
       "2013-01-23 00:00:00+00:00  San Antonio         2          TX          78251   \n",
       "2013-01-23 00:00:00+00:00  San Antonio         9          TX          78221   \n",
       "\n",
       "                                 item_brand  item_id  \\\n",
       "sale_date                                              \n",
       "2013-01-23 00:00:00+00:00     Betty Crocker       22   \n",
       "2013-01-23 00:00:00+00:00  Zhenas Gypsy Tea       31   \n",
       "2013-01-23 00:00:00+00:00      Van De Kamps        9   \n",
       "2013-01-23 00:00:00+00:00  Zhenas Gypsy Tea       31   \n",
       "2013-01-23 00:00:00+00:00         Triaminic       26   \n",
       "\n",
       "                                                                   item_name  \\\n",
       "sale_date                                                                      \n",
       "2013-01-23 00:00:00+00:00  Betty Crocker Twin Pack Real Potatoes Scallope...   \n",
       "2013-01-23 00:00:00+00:00  Zhenas Gypsy Tea Herbal Red Tea Sachets Fire L...   \n",
       "2013-01-23 00:00:00+00:00         Van De Kamps Fillets Beer Battered - 10 Ct   \n",
       "2013-01-23 00:00:00+00:00  Zhenas Gypsy Tea Herbal Red Tea Sachets Fire L...   \n",
       "2013-01-23 00:00:00+00:00  Triaminic Syrup Night Time Cold & Cough Grape 4oz   \n",
       "\n",
       "                           item_price    item_upc12    item_upc14  \n",
       "sale_date                                                          \n",
       "2013-01-23 00:00:00+00:00        7.31   16000288829   16000288829  \n",
       "2013-01-23 00:00:00+00:00        4.21  652790100226  652790100226  \n",
       "2013-01-23 00:00:00+00:00        1.79   19600923015   19600923015  \n",
       "2013-01-23 00:00:00+00:00        4.21  652790100226  652790100226  \n",
       "2013-01-23 00:00:00+00:00        0.98  300436344045  300436344045  "
      ]
     },
     "execution_count": 17,
     "metadata": {},
     "output_type": "execute_result"
    }
   ],
   "source": [
    "# To see all the rows that have the EXACT date of Jan 23, 2013:\n",
    "df.loc[\"2013-01-23\"].head() "
   ]
  },
  {
   "cell_type": "code",
   "execution_count": 18,
   "metadata": {},
   "outputs": [
    {
     "data": {
      "text/html": [
       "<div>\n",
       "<style scoped>\n",
       "    .dataframe tbody tr th:only-of-type {\n",
       "        vertical-align: middle;\n",
       "    }\n",
       "\n",
       "    .dataframe tbody tr th {\n",
       "        vertical-align: top;\n",
       "    }\n",
       "\n",
       "    .dataframe thead th {\n",
       "        text-align: right;\n",
       "    }\n",
       "</style>\n",
       "<table border=\"1\" class=\"dataframe\">\n",
       "  <thead>\n",
       "    <tr style=\"text-align: right;\">\n",
       "      <th></th>\n",
       "      <th>sale_amount</th>\n",
       "      <th>sale_id</th>\n",
       "      <th>store_address</th>\n",
       "      <th>store_city</th>\n",
       "      <th>store_id</th>\n",
       "      <th>store_state</th>\n",
       "      <th>store_zipcode</th>\n",
       "      <th>item_brand</th>\n",
       "      <th>item_id</th>\n",
       "      <th>item_name</th>\n",
       "      <th>item_price</th>\n",
       "      <th>item_upc12</th>\n",
       "      <th>item_upc14</th>\n",
       "    </tr>\n",
       "    <tr>\n",
       "      <th>sale_date</th>\n",
       "      <th></th>\n",
       "      <th></th>\n",
       "      <th></th>\n",
       "      <th></th>\n",
       "      <th></th>\n",
       "      <th></th>\n",
       "      <th></th>\n",
       "      <th></th>\n",
       "      <th></th>\n",
       "      <th></th>\n",
       "      <th></th>\n",
       "      <th></th>\n",
       "      <th></th>\n",
       "    </tr>\n",
       "  </thead>\n",
       "  <tbody>\n",
       "    <tr>\n",
       "      <th>2014-12-01 00:00:00+00:00</th>\n",
       "      <td>29.0</td>\n",
       "      <td>543022</td>\n",
       "      <td>15000 San Pedro Ave</td>\n",
       "      <td>San Antonio</td>\n",
       "      <td>8</td>\n",
       "      <td>TX</td>\n",
       "      <td>78232</td>\n",
       "      <td>Petmate</td>\n",
       "      <td>30</td>\n",
       "      <td>Petmate Booda Bones Steak Bacon &amp; Chicken Flav...</td>\n",
       "      <td>8.39</td>\n",
       "      <td>723503568678</td>\n",
       "      <td>723503568678</td>\n",
       "    </tr>\n",
       "    <tr>\n",
       "      <th>2014-12-01 00:00:00+00:00</th>\n",
       "      <td>21.0</td>\n",
       "      <td>13482</td>\n",
       "      <td>15000 San Pedro Ave</td>\n",
       "      <td>San Antonio</td>\n",
       "      <td>8</td>\n",
       "      <td>TX</td>\n",
       "      <td>78232</td>\n",
       "      <td>Riceland</td>\n",
       "      <td>1</td>\n",
       "      <td>Riceland American Jazmine Rice</td>\n",
       "      <td>0.84</td>\n",
       "      <td>35200264013</td>\n",
       "      <td>35200264013</td>\n",
       "    </tr>\n",
       "    <tr>\n",
       "      <th>2014-12-01 00:00:00+00:00</th>\n",
       "      <td>27.0</td>\n",
       "      <td>380508</td>\n",
       "      <td>735 SW Military Dr</td>\n",
       "      <td>San Antonio</td>\n",
       "      <td>9</td>\n",
       "      <td>TX</td>\n",
       "      <td>78221</td>\n",
       "      <td>Doctors Best</td>\n",
       "      <td>21</td>\n",
       "      <td>Doctors Best Best Curcumin C3 Complex 1000mg T...</td>\n",
       "      <td>8.09</td>\n",
       "      <td>753950001954</td>\n",
       "      <td>753950001954</td>\n",
       "    </tr>\n",
       "    <tr>\n",
       "      <th>2014-12-01 00:00:00+00:00</th>\n",
       "      <td>18.0</td>\n",
       "      <td>2526</td>\n",
       "      <td>9255 FM 471 West</td>\n",
       "      <td>San Antonio</td>\n",
       "      <td>2</td>\n",
       "      <td>TX</td>\n",
       "      <td>78251</td>\n",
       "      <td>Riceland</td>\n",
       "      <td>1</td>\n",
       "      <td>Riceland American Jazmine Rice</td>\n",
       "      <td>0.84</td>\n",
       "      <td>35200264013</td>\n",
       "      <td>35200264013</td>\n",
       "    </tr>\n",
       "    <tr>\n",
       "      <th>2014-12-01 00:00:00+00:00</th>\n",
       "      <td>33.0</td>\n",
       "      <td>711014</td>\n",
       "      <td>8503 NW Military Hwy</td>\n",
       "      <td>San Antonio</td>\n",
       "      <td>10</td>\n",
       "      <td>TX</td>\n",
       "      <td>78231</td>\n",
       "      <td>Munchies</td>\n",
       "      <td>39</td>\n",
       "      <td>Munchies Sandwich Crackers Cheddar Cheese On G...</td>\n",
       "      <td>9.02</td>\n",
       "      <td>28400029254</td>\n",
       "      <td>28400029254</td>\n",
       "    </tr>\n",
       "  </tbody>\n",
       "</table>\n",
       "</div>"
      ],
      "text/plain": [
       "                           sale_amount  sale_id         store_address  \\\n",
       "sale_date                                                               \n",
       "2014-12-01 00:00:00+00:00         29.0   543022   15000 San Pedro Ave   \n",
       "2014-12-01 00:00:00+00:00         21.0    13482   15000 San Pedro Ave   \n",
       "2014-12-01 00:00:00+00:00         27.0   380508    735 SW Military Dr   \n",
       "2014-12-01 00:00:00+00:00         18.0     2526      9255 FM 471 West   \n",
       "2014-12-01 00:00:00+00:00         33.0   711014  8503 NW Military Hwy   \n",
       "\n",
       "                            store_city  store_id store_state  store_zipcode  \\\n",
       "sale_date                                                                     \n",
       "2014-12-01 00:00:00+00:00  San Antonio         8          TX          78232   \n",
       "2014-12-01 00:00:00+00:00  San Antonio         8          TX          78232   \n",
       "2014-12-01 00:00:00+00:00  San Antonio         9          TX          78221   \n",
       "2014-12-01 00:00:00+00:00  San Antonio         2          TX          78251   \n",
       "2014-12-01 00:00:00+00:00  San Antonio        10          TX          78231   \n",
       "\n",
       "                             item_brand  item_id  \\\n",
       "sale_date                                          \n",
       "2014-12-01 00:00:00+00:00       Petmate       30   \n",
       "2014-12-01 00:00:00+00:00      Riceland        1   \n",
       "2014-12-01 00:00:00+00:00  Doctors Best       21   \n",
       "2014-12-01 00:00:00+00:00      Riceland        1   \n",
       "2014-12-01 00:00:00+00:00      Munchies       39   \n",
       "\n",
       "                                                                   item_name  \\\n",
       "sale_date                                                                      \n",
       "2014-12-01 00:00:00+00:00  Petmate Booda Bones Steak Bacon & Chicken Flav...   \n",
       "2014-12-01 00:00:00+00:00                     Riceland American Jazmine Rice   \n",
       "2014-12-01 00:00:00+00:00  Doctors Best Best Curcumin C3 Complex 1000mg T...   \n",
       "2014-12-01 00:00:00+00:00                     Riceland American Jazmine Rice   \n",
       "2014-12-01 00:00:00+00:00  Munchies Sandwich Crackers Cheddar Cheese On G...   \n",
       "\n",
       "                           item_price    item_upc12    item_upc14  \n",
       "sale_date                                                          \n",
       "2014-12-01 00:00:00+00:00        8.39  723503568678  723503568678  \n",
       "2014-12-01 00:00:00+00:00        0.84   35200264013   35200264013  \n",
       "2014-12-01 00:00:00+00:00        8.09  753950001954  753950001954  \n",
       "2014-12-01 00:00:00+00:00        0.84   35200264013   35200264013  \n",
       "2014-12-01 00:00:00+00:00        9.02   28400029254   28400029254  "
      ]
     },
     "execution_count": 18,
     "metadata": {},
     "output_type": "execute_result"
    }
   ],
   "source": [
    "df.loc[\"2014-12\"].head() # returns all the rows (events) that happened in December of 2014"
   ]
  },
  {
   "cell_type": "code",
   "execution_count": 19,
   "metadata": {},
   "outputs": [
    {
     "data": {
      "text/html": [
       "<div>\n",
       "<style scoped>\n",
       "    .dataframe tbody tr th:only-of-type {\n",
       "        vertical-align: middle;\n",
       "    }\n",
       "\n",
       "    .dataframe tbody tr th {\n",
       "        vertical-align: top;\n",
       "    }\n",
       "\n",
       "    .dataframe thead th {\n",
       "        text-align: right;\n",
       "    }\n",
       "</style>\n",
       "<table border=\"1\" class=\"dataframe\">\n",
       "  <thead>\n",
       "    <tr style=\"text-align: right;\">\n",
       "      <th></th>\n",
       "      <th>sale_amount</th>\n",
       "      <th>sale_id</th>\n",
       "      <th>store_address</th>\n",
       "      <th>store_city</th>\n",
       "      <th>store_id</th>\n",
       "      <th>store_state</th>\n",
       "      <th>store_zipcode</th>\n",
       "      <th>item_brand</th>\n",
       "      <th>item_id</th>\n",
       "      <th>item_name</th>\n",
       "      <th>item_price</th>\n",
       "      <th>item_upc12</th>\n",
       "      <th>item_upc14</th>\n",
       "    </tr>\n",
       "    <tr>\n",
       "      <th>sale_date</th>\n",
       "      <th></th>\n",
       "      <th></th>\n",
       "      <th></th>\n",
       "      <th></th>\n",
       "      <th></th>\n",
       "      <th></th>\n",
       "      <th></th>\n",
       "      <th></th>\n",
       "      <th></th>\n",
       "      <th></th>\n",
       "      <th></th>\n",
       "      <th></th>\n",
       "      <th></th>\n",
       "    </tr>\n",
       "  </thead>\n",
       "  <tbody>\n",
       "    <tr>\n",
       "      <th>2015-01-01 00:00:00+00:00</th>\n",
       "      <td>49.0</td>\n",
       "      <td>159593</td>\n",
       "      <td>15000 San Pedro Ave</td>\n",
       "      <td>San Antonio</td>\n",
       "      <td>8</td>\n",
       "      <td>TX</td>\n",
       "      <td>78232</td>\n",
       "      <td>Van De Kamps</td>\n",
       "      <td>9</td>\n",
       "      <td>Van De Kamps Fillets Beer Battered - 10 Ct</td>\n",
       "      <td>1.79</td>\n",
       "      <td>19600923015</td>\n",
       "      <td>19600923015</td>\n",
       "    </tr>\n",
       "    <tr>\n",
       "      <th>2015-01-01 00:00:00+00:00</th>\n",
       "      <td>32.0</td>\n",
       "      <td>535749</td>\n",
       "      <td>516 S Flores St</td>\n",
       "      <td>San Antonio</td>\n",
       "      <td>4</td>\n",
       "      <td>TX</td>\n",
       "      <td>78204</td>\n",
       "      <td>Petmate</td>\n",
       "      <td>30</td>\n",
       "      <td>Petmate Booda Bones Steak Bacon &amp; Chicken Flav...</td>\n",
       "      <td>8.39</td>\n",
       "      <td>723503568678</td>\n",
       "      <td>723503568678</td>\n",
       "    </tr>\n",
       "    <tr>\n",
       "      <th>2015-01-01 00:00:00+00:00</th>\n",
       "      <td>36.0</td>\n",
       "      <td>18991</td>\n",
       "      <td>12125 Alamo Ranch Pkwy</td>\n",
       "      <td>San Antonio</td>\n",
       "      <td>1</td>\n",
       "      <td>TX</td>\n",
       "      <td>78253</td>\n",
       "      <td>Caress</td>\n",
       "      <td>2</td>\n",
       "      <td>Caress Velvet Bliss Ultra Silkening Beauty Bar...</td>\n",
       "      <td>6.44</td>\n",
       "      <td>11111065925</td>\n",
       "      <td>11111065925</td>\n",
       "    </tr>\n",
       "    <tr>\n",
       "      <th>2015-01-01 00:00:00+00:00</th>\n",
       "      <td>65.0</td>\n",
       "      <td>678177</td>\n",
       "      <td>9255 FM 471 West</td>\n",
       "      <td>San Antonio</td>\n",
       "      <td>2</td>\n",
       "      <td>TX</td>\n",
       "      <td>78251</td>\n",
       "      <td>Sundown Naturals</td>\n",
       "      <td>38</td>\n",
       "      <td>Sundown Naturals Essential Electrolytes Tropic...</td>\n",
       "      <td>3.45</td>\n",
       "      <td>30768540548</td>\n",
       "      <td>30768540548</td>\n",
       "    </tr>\n",
       "    <tr>\n",
       "      <th>2015-01-01 00:00:00+00:00</th>\n",
       "      <td>19.0</td>\n",
       "      <td>617919</td>\n",
       "      <td>735 SW Military Dr</td>\n",
       "      <td>San Antonio</td>\n",
       "      <td>9</td>\n",
       "      <td>TX</td>\n",
       "      <td>78221</td>\n",
       "      <td>Halls</td>\n",
       "      <td>34</td>\n",
       "      <td>Halls Menthol Cough Suppresant/oral Anesthetic...</td>\n",
       "      <td>4.17</td>\n",
       "      <td>312546628694</td>\n",
       "      <td>312546628694</td>\n",
       "    </tr>\n",
       "  </tbody>\n",
       "</table>\n",
       "</div>"
      ],
      "text/plain": [
       "                           sale_amount  sale_id           store_address  \\\n",
       "sale_date                                                                 \n",
       "2015-01-01 00:00:00+00:00         49.0   159593     15000 San Pedro Ave   \n",
       "2015-01-01 00:00:00+00:00         32.0   535749         516 S Flores St   \n",
       "2015-01-01 00:00:00+00:00         36.0    18991  12125 Alamo Ranch Pkwy   \n",
       "2015-01-01 00:00:00+00:00         65.0   678177        9255 FM 471 West   \n",
       "2015-01-01 00:00:00+00:00         19.0   617919      735 SW Military Dr   \n",
       "\n",
       "                            store_city  store_id store_state  store_zipcode  \\\n",
       "sale_date                                                                     \n",
       "2015-01-01 00:00:00+00:00  San Antonio         8          TX          78232   \n",
       "2015-01-01 00:00:00+00:00  San Antonio         4          TX          78204   \n",
       "2015-01-01 00:00:00+00:00  San Antonio         1          TX          78253   \n",
       "2015-01-01 00:00:00+00:00  San Antonio         2          TX          78251   \n",
       "2015-01-01 00:00:00+00:00  San Antonio         9          TX          78221   \n",
       "\n",
       "                                 item_brand  item_id  \\\n",
       "sale_date                                              \n",
       "2015-01-01 00:00:00+00:00      Van De Kamps        9   \n",
       "2015-01-01 00:00:00+00:00           Petmate       30   \n",
       "2015-01-01 00:00:00+00:00            Caress        2   \n",
       "2015-01-01 00:00:00+00:00  Sundown Naturals       38   \n",
       "2015-01-01 00:00:00+00:00             Halls       34   \n",
       "\n",
       "                                                                   item_name  \\\n",
       "sale_date                                                                      \n",
       "2015-01-01 00:00:00+00:00         Van De Kamps Fillets Beer Battered - 10 Ct   \n",
       "2015-01-01 00:00:00+00:00  Petmate Booda Bones Steak Bacon & Chicken Flav...   \n",
       "2015-01-01 00:00:00+00:00  Caress Velvet Bliss Ultra Silkening Beauty Bar...   \n",
       "2015-01-01 00:00:00+00:00  Sundown Naturals Essential Electrolytes Tropic...   \n",
       "2015-01-01 00:00:00+00:00  Halls Menthol Cough Suppresant/oral Anesthetic...   \n",
       "\n",
       "                           item_price    item_upc12    item_upc14  \n",
       "sale_date                                                          \n",
       "2015-01-01 00:00:00+00:00        1.79   19600923015   19600923015  \n",
       "2015-01-01 00:00:00+00:00        8.39  723503568678  723503568678  \n",
       "2015-01-01 00:00:00+00:00        6.44   11111065925   11111065925  \n",
       "2015-01-01 00:00:00+00:00        3.45   30768540548   30768540548  \n",
       "2015-01-01 00:00:00+00:00        4.17  312546628694  312546628694  "
      ]
     },
     "execution_count": 19,
     "metadata": {},
     "output_type": "execute_result"
    }
   ],
   "source": [
    "df.loc[\"2015-01-01\":\"2015-01-03\"].head() # returns all rows (events) from Jan 1st - Jan 3rd of 2015 INCLUSIVE"
   ]
  },
  {
   "cell_type": "code",
   "execution_count": 20,
   "metadata": {},
   "outputs": [
    {
     "data": {
      "text/html": [
       "<div>\n",
       "<style scoped>\n",
       "    .dataframe tbody tr th:only-of-type {\n",
       "        vertical-align: middle;\n",
       "    }\n",
       "\n",
       "    .dataframe tbody tr th {\n",
       "        vertical-align: top;\n",
       "    }\n",
       "\n",
       "    .dataframe thead th {\n",
       "        text-align: right;\n",
       "    }\n",
       "</style>\n",
       "<table border=\"1\" class=\"dataframe\">\n",
       "  <thead>\n",
       "    <tr style=\"text-align: right;\">\n",
       "      <th></th>\n",
       "      <th>sale_amount</th>\n",
       "      <th>sale_id</th>\n",
       "      <th>store_address</th>\n",
       "      <th>store_city</th>\n",
       "      <th>store_id</th>\n",
       "      <th>store_state</th>\n",
       "      <th>store_zipcode</th>\n",
       "      <th>item_brand</th>\n",
       "      <th>item_id</th>\n",
       "      <th>item_name</th>\n",
       "      <th>item_price</th>\n",
       "      <th>item_upc12</th>\n",
       "      <th>item_upc14</th>\n",
       "    </tr>\n",
       "    <tr>\n",
       "      <th>sale_date</th>\n",
       "      <th></th>\n",
       "      <th></th>\n",
       "      <th></th>\n",
       "      <th></th>\n",
       "      <th></th>\n",
       "      <th></th>\n",
       "      <th></th>\n",
       "      <th></th>\n",
       "      <th></th>\n",
       "      <th></th>\n",
       "      <th></th>\n",
       "      <th></th>\n",
       "      <th></th>\n",
       "    </tr>\n",
       "  </thead>\n",
       "  <tbody>\n",
       "    <tr>\n",
       "      <th>2016-01-01 00:00:00+00:00</th>\n",
       "      <td>58.0</td>\n",
       "      <td>908618</td>\n",
       "      <td>15000 San Pedro Ave</td>\n",
       "      <td>San Antonio</td>\n",
       "      <td>8</td>\n",
       "      <td>TX</td>\n",
       "      <td>78232</td>\n",
       "      <td>Choice</td>\n",
       "      <td>50</td>\n",
       "      <td>Choice Organic Teas Black Tea Classic Black - ...</td>\n",
       "      <td>5.20</td>\n",
       "      <td>47445919221</td>\n",
       "      <td>47445919221</td>\n",
       "    </tr>\n",
       "    <tr>\n",
       "      <th>2016-01-01 00:00:00+00:00</th>\n",
       "      <td>34.0</td>\n",
       "      <td>833752</td>\n",
       "      <td>12018 Perrin Beitel Rd</td>\n",
       "      <td>San Antonio</td>\n",
       "      <td>7</td>\n",
       "      <td>TX</td>\n",
       "      <td>78217</td>\n",
       "      <td>Mama Marys</td>\n",
       "      <td>46</td>\n",
       "      <td>Pizza Sauce</td>\n",
       "      <td>4.65</td>\n",
       "      <td>35457770664</td>\n",
       "      <td>35457770664</td>\n",
       "    </tr>\n",
       "    <tr>\n",
       "      <th>2016-01-01 00:00:00+00:00</th>\n",
       "      <td>69.0</td>\n",
       "      <td>689498</td>\n",
       "      <td>15000 San Pedro Ave</td>\n",
       "      <td>San Antonio</td>\n",
       "      <td>8</td>\n",
       "      <td>TX</td>\n",
       "      <td>78232</td>\n",
       "      <td>Sundown Naturals</td>\n",
       "      <td>38</td>\n",
       "      <td>Sundown Naturals Essential Electrolytes Tropic...</td>\n",
       "      <td>3.45</td>\n",
       "      <td>30768540548</td>\n",
       "      <td>30768540548</td>\n",
       "    </tr>\n",
       "    <tr>\n",
       "      <th>2016-01-01 00:00:00+00:00</th>\n",
       "      <td>30.0</td>\n",
       "      <td>892184</td>\n",
       "      <td>735 SW Military Dr</td>\n",
       "      <td>San Antonio</td>\n",
       "      <td>9</td>\n",
       "      <td>TX</td>\n",
       "      <td>78221</td>\n",
       "      <td>Easy-off</td>\n",
       "      <td>49</td>\n",
       "      <td>Easy-off Oven Cleaner Lemon Scent</td>\n",
       "      <td>9.54</td>\n",
       "      <td>62338879772</td>\n",
       "      <td>62338879772</td>\n",
       "    </tr>\n",
       "    <tr>\n",
       "      <th>2016-01-01 00:00:00+00:00</th>\n",
       "      <td>70.0</td>\n",
       "      <td>494116</td>\n",
       "      <td>12125 Alamo Ranch Pkwy</td>\n",
       "      <td>San Antonio</td>\n",
       "      <td>1</td>\n",
       "      <td>TX</td>\n",
       "      <td>78253</td>\n",
       "      <td>Usda Produce</td>\n",
       "      <td>28</td>\n",
       "      <td>Guava</td>\n",
       "      <td>7.52</td>\n",
       "      <td>719175900007</td>\n",
       "      <td>719175900007</td>\n",
       "    </tr>\n",
       "    <tr>\n",
       "      <th>...</th>\n",
       "      <td>...</td>\n",
       "      <td>...</td>\n",
       "      <td>...</td>\n",
       "      <td>...</td>\n",
       "      <td>...</td>\n",
       "      <td>...</td>\n",
       "      <td>...</td>\n",
       "      <td>...</td>\n",
       "      <td>...</td>\n",
       "      <td>...</td>\n",
       "      <td>...</td>\n",
       "      <td>...</td>\n",
       "      <td>...</td>\n",
       "    </tr>\n",
       "    <tr>\n",
       "      <th>2016-12-31 00:00:00+00:00</th>\n",
       "      <td>60.0</td>\n",
       "      <td>321011</td>\n",
       "      <td>1015 S WW White Rd</td>\n",
       "      <td>San Antonio</td>\n",
       "      <td>6</td>\n",
       "      <td>TX</td>\n",
       "      <td>78220</td>\n",
       "      <td>Scotch</td>\n",
       "      <td>18</td>\n",
       "      <td>Scotch Removable Clear Mounting Squares - 35 Ct</td>\n",
       "      <td>4.39</td>\n",
       "      <td>21200725340</td>\n",
       "      <td>21200725340</td>\n",
       "    </tr>\n",
       "    <tr>\n",
       "      <th>2016-12-31 00:00:00+00:00</th>\n",
       "      <td>31.0</td>\n",
       "      <td>750121</td>\n",
       "      <td>12125 Alamo Ranch Pkwy</td>\n",
       "      <td>San Antonio</td>\n",
       "      <td>1</td>\n",
       "      <td>TX</td>\n",
       "      <td>78253</td>\n",
       "      <td>Moms Best Naturals</td>\n",
       "      <td>42</td>\n",
       "      <td>Moms Best Naturals Cereal Toasted Cinnamon Squ...</td>\n",
       "      <td>2.97</td>\n",
       "      <td>883978129115</td>\n",
       "      <td>883978129115</td>\n",
       "    </tr>\n",
       "    <tr>\n",
       "      <th>2016-12-31 00:00:00+00:00</th>\n",
       "      <td>41.0</td>\n",
       "      <td>98239</td>\n",
       "      <td>516 S Flores St</td>\n",
       "      <td>San Antonio</td>\n",
       "      <td>4</td>\n",
       "      <td>TX</td>\n",
       "      <td>78204</td>\n",
       "      <td>Sally Hansen</td>\n",
       "      <td>6</td>\n",
       "      <td>Sally Hansen Nail Color Magnetic 903 Silver El...</td>\n",
       "      <td>6.93</td>\n",
       "      <td>74170388732</td>\n",
       "      <td>74170388732</td>\n",
       "    </tr>\n",
       "    <tr>\n",
       "      <th>2016-12-31 00:00:00+00:00</th>\n",
       "      <td>17.0</td>\n",
       "      <td>70849</td>\n",
       "      <td>735 SW Military Dr</td>\n",
       "      <td>San Antonio</td>\n",
       "      <td>9</td>\n",
       "      <td>TX</td>\n",
       "      <td>78221</td>\n",
       "      <td>Boars Head</td>\n",
       "      <td>4</td>\n",
       "      <td>Boars Head Sliced White American Cheese - 120 Ct</td>\n",
       "      <td>3.14</td>\n",
       "      <td>208528800007</td>\n",
       "      <td>208528800007</td>\n",
       "    </tr>\n",
       "    <tr>\n",
       "      <th>2016-12-31 00:00:00+00:00</th>\n",
       "      <td>74.0</td>\n",
       "      <td>589433</td>\n",
       "      <td>2118 Fredericksburg Rdj</td>\n",
       "      <td>San Antonio</td>\n",
       "      <td>3</td>\n",
       "      <td>TX</td>\n",
       "      <td>78201</td>\n",
       "      <td>The First Years</td>\n",
       "      <td>33</td>\n",
       "      <td>Tomy The First Years Gumdrop Orthodontic Pacif...</td>\n",
       "      <td>6.52</td>\n",
       "      <td>71463060078</td>\n",
       "      <td>71463060078</td>\n",
       "    </tr>\n",
       "  </tbody>\n",
       "</table>\n",
       "<p>183000 rows × 13 columns</p>\n",
       "</div>"
      ],
      "text/plain": [
       "                           sale_amount  sale_id            store_address  \\\n",
       "sale_date                                                                  \n",
       "2016-01-01 00:00:00+00:00         58.0   908618      15000 San Pedro Ave   \n",
       "2016-01-01 00:00:00+00:00         34.0   833752   12018 Perrin Beitel Rd   \n",
       "2016-01-01 00:00:00+00:00         69.0   689498      15000 San Pedro Ave   \n",
       "2016-01-01 00:00:00+00:00         30.0   892184       735 SW Military Dr   \n",
       "2016-01-01 00:00:00+00:00         70.0   494116   12125 Alamo Ranch Pkwy   \n",
       "...                                ...      ...                      ...   \n",
       "2016-12-31 00:00:00+00:00         60.0   321011       1015 S WW White Rd   \n",
       "2016-12-31 00:00:00+00:00         31.0   750121   12125 Alamo Ranch Pkwy   \n",
       "2016-12-31 00:00:00+00:00         41.0    98239          516 S Flores St   \n",
       "2016-12-31 00:00:00+00:00         17.0    70849       735 SW Military Dr   \n",
       "2016-12-31 00:00:00+00:00         74.0   589433  2118 Fredericksburg Rdj   \n",
       "\n",
       "                            store_city  store_id store_state  store_zipcode  \\\n",
       "sale_date                                                                     \n",
       "2016-01-01 00:00:00+00:00  San Antonio         8          TX          78232   \n",
       "2016-01-01 00:00:00+00:00  San Antonio         7          TX          78217   \n",
       "2016-01-01 00:00:00+00:00  San Antonio         8          TX          78232   \n",
       "2016-01-01 00:00:00+00:00  San Antonio         9          TX          78221   \n",
       "2016-01-01 00:00:00+00:00  San Antonio         1          TX          78253   \n",
       "...                                ...       ...         ...            ...   \n",
       "2016-12-31 00:00:00+00:00  San Antonio         6          TX          78220   \n",
       "2016-12-31 00:00:00+00:00  San Antonio         1          TX          78253   \n",
       "2016-12-31 00:00:00+00:00  San Antonio         4          TX          78204   \n",
       "2016-12-31 00:00:00+00:00  San Antonio         9          TX          78221   \n",
       "2016-12-31 00:00:00+00:00  San Antonio         3          TX          78201   \n",
       "\n",
       "                                   item_brand  item_id  \\\n",
       "sale_date                                                \n",
       "2016-01-01 00:00:00+00:00              Choice       50   \n",
       "2016-01-01 00:00:00+00:00          Mama Marys       46   \n",
       "2016-01-01 00:00:00+00:00    Sundown Naturals       38   \n",
       "2016-01-01 00:00:00+00:00            Easy-off       49   \n",
       "2016-01-01 00:00:00+00:00        Usda Produce       28   \n",
       "...                                       ...      ...   \n",
       "2016-12-31 00:00:00+00:00              Scotch       18   \n",
       "2016-12-31 00:00:00+00:00  Moms Best Naturals       42   \n",
       "2016-12-31 00:00:00+00:00        Sally Hansen        6   \n",
       "2016-12-31 00:00:00+00:00          Boars Head        4   \n",
       "2016-12-31 00:00:00+00:00     The First Years       33   \n",
       "\n",
       "                                                                   item_name  \\\n",
       "sale_date                                                                      \n",
       "2016-01-01 00:00:00+00:00  Choice Organic Teas Black Tea Classic Black - ...   \n",
       "2016-01-01 00:00:00+00:00                                        Pizza Sauce   \n",
       "2016-01-01 00:00:00+00:00  Sundown Naturals Essential Electrolytes Tropic...   \n",
       "2016-01-01 00:00:00+00:00                  Easy-off Oven Cleaner Lemon Scent   \n",
       "2016-01-01 00:00:00+00:00                                              Guava   \n",
       "...                                                                      ...   \n",
       "2016-12-31 00:00:00+00:00    Scotch Removable Clear Mounting Squares - 35 Ct   \n",
       "2016-12-31 00:00:00+00:00  Moms Best Naturals Cereal Toasted Cinnamon Squ...   \n",
       "2016-12-31 00:00:00+00:00  Sally Hansen Nail Color Magnetic 903 Silver El...   \n",
       "2016-12-31 00:00:00+00:00   Boars Head Sliced White American Cheese - 120 Ct   \n",
       "2016-12-31 00:00:00+00:00  Tomy The First Years Gumdrop Orthodontic Pacif...   \n",
       "\n",
       "                           item_price    item_upc12    item_upc14  \n",
       "sale_date                                                          \n",
       "2016-01-01 00:00:00+00:00        5.20   47445919221   47445919221  \n",
       "2016-01-01 00:00:00+00:00        4.65   35457770664   35457770664  \n",
       "2016-01-01 00:00:00+00:00        3.45   30768540548   30768540548  \n",
       "2016-01-01 00:00:00+00:00        9.54   62338879772   62338879772  \n",
       "2016-01-01 00:00:00+00:00        7.52  719175900007  719175900007  \n",
       "...                               ...           ...           ...  \n",
       "2016-12-31 00:00:00+00:00        4.39   21200725340   21200725340  \n",
       "2016-12-31 00:00:00+00:00        2.97  883978129115  883978129115  \n",
       "2016-12-31 00:00:00+00:00        6.93   74170388732   74170388732  \n",
       "2016-12-31 00:00:00+00:00        3.14  208528800007  208528800007  \n",
       "2016-12-31 00:00:00+00:00        6.52   71463060078   71463060078  \n",
       "\n",
       "[183000 rows x 13 columns]"
      ]
     },
     "execution_count": 20,
     "metadata": {},
     "output_type": "execute_result"
    }
   ],
   "source": [
    "df.loc[\"2016\"] # shows all the rows (events) from 2016"
   ]
  },
  {
   "cell_type": "code",
   "execution_count": 21,
   "metadata": {},
   "outputs": [
    {
     "data": {
      "text/plain": [
       "'Monday'"
      ]
     },
     "execution_count": 21,
     "metadata": {},
     "output_type": "execute_result"
    }
   ],
   "source": [
    "# On what day of the week did Codeup's Data Science begin last year?  Use .to_datetime(\"date\") to figure it out\n",
    "\n",
    "milestone = pd.to_datetime(\"Feb 4 2019\")\n",
    "milestone.day_name()"
   ]
  },
  {
   "cell_type": "code",
   "execution_count": 22,
   "metadata": {},
   "outputs": [
    {
     "data": {
      "text/plain": [
       "'Thursday'"
      ]
     },
     "execution_count": 22,
     "metadata": {},
     "output_type": "execute_result"
    }
   ],
   "source": [
    "mias_birthday = pd.to_datetime(\"Feb 14 2008\")\n",
    "mias_birthday.day_name()"
   ]
  },
  {
   "cell_type": "code",
   "execution_count": 23,
   "metadata": {},
   "outputs": [
    {
     "data": {
      "text/plain": [
       "'Tuesday'"
      ]
     },
     "execution_count": 23,
     "metadata": {},
     "output_type": "execute_result"
    }
   ],
   "source": [
    "lucis_birthday = pd.to_datetime(\"January 11 2011\")\n",
    "lucis_birthday.day_name()"
   ]
  },
  {
   "cell_type": "code",
   "execution_count": 24,
   "metadata": {},
   "outputs": [
    {
     "data": {
      "text/plain": [
       "'Tuesday'"
      ]
     },
     "execution_count": 24,
     "metadata": {},
     "output_type": "execute_result"
    }
   ],
   "source": [
    "thomas_birthday = pd.to_datetime(\"January 29 2013\")\n",
    "thomas_birthday.day_name()"
   ]
  },
  {
   "cell_type": "markdown",
   "metadata": {},
   "source": [
    "### Note:\n",
    "\n",
    "- '.day_name( )' returns the name of the day on which the date we specify falls\n",
    "\n",
    "- '.month_name( )' returns the name of the month on which the date we specify falls\n",
    "\n",
    "- '.dayofyear' returns the counted day of the year (on what number day of the 365 days of the year it falls)\n",
    "\n",
    "- '.week' returns the counted week of the year (on what number week of the 52 weeks of the year it falls)\n",
    "\n",
    "- '.daysinmonth' returns the number of days that month contained"
   ]
  },
  {
   "cell_type": "code",
   "execution_count": 25,
   "metadata": {},
   "outputs": [],
   "source": [
    "# Back to the sales data:\n",
    "\n",
    "# 1.) Check out the sum of the sales_amounts by each day with df.groupby:\n",
    "\n",
    "by_date = df.groupby([\"sale_date\"])[\"sale_amount\"].sum().reset_index()\n",
    "\n",
    "# NB: '.groupby()'' must be followed by aggragate function, like '.sum()', '.min()', '.mean()', '.max()', etc."
   ]
  },
  {
   "cell_type": "code",
   "execution_count": 26,
   "metadata": {},
   "outputs": [
    {
     "data": {
      "text/plain": [
       "<matplotlib.axes._subplots.AxesSubplot at 0x138c5c590>"
      ]
     },
     "execution_count": 26,
     "metadata": {},
     "output_type": "execute_result"
    },
    {
     "data": {
      "image/png": "[encoded data removed]",
      "text/plain": [
       "<Figure size 432x288 with 1 Axes>"
      ]
     },
     "metadata": {
      "needs_background": "light"
     },
     "output_type": "display_data"
    }
   ],
   "source": [
    "# Now take a look at the data:\n",
    "by_date.plot(x=\"sale_date\", y=\"sale_amount\")"
   ]
  },
  {
   "cell_type": "markdown",
   "metadata": {},
   "source": [
    "#### ^^ Shows seasonality - looks like there's more business during the Summer months, with a peak somewhere between Thanksgiving and Christmas."
   ]
  },
  {
   "cell_type": "markdown",
   "metadata": {},
   "source": [
    "### Plot Target Variable over Time\n",
    "\n",
    "- Target is what we wish to predict / forecast.  \n",
    "- aggregate \"sale_amount\" by the \"sale_date\" using '.sum()'"
   ]
  },
  {
   "cell_type": "code",
   "execution_count": 27,
   "metadata": {},
   "outputs": [
    {
     "data": {
      "text/plain": [
       "10"
      ]
     },
     "execution_count": 27,
     "metadata": {},
     "output_type": "execute_result"
    }
   ],
   "source": [
    "# Number of unique stores that had any sales during this timeframe\n",
    "\n",
    "df.store_id.nunique()"
   ]
  },
  {
   "cell_type": "markdown",
   "metadata": {},
   "source": [
    "**Ten (10) individual stores had sales during this timeframe.**"
   ]
  },
  {
   "cell_type": "code",
   "execution_count": 28,
   "metadata": {},
   "outputs": [
    {
     "data": {
      "text/plain": [
       "10    91300\n",
       "9     91300\n",
       "8     91300\n",
       "7     91300\n",
       "6     91300\n",
       "5     91300\n",
       "4     91300\n",
       "3     91300\n",
       "2     91300\n",
       "1     91300\n",
       "Name: store_id, dtype: int64"
      ]
     },
     "execution_count": 28,
     "metadata": {},
     "output_type": "execute_result"
    }
   ],
   "source": [
    "# Next, get the number of observations (item transactions) per store:\n",
    "\n",
    "df.store_id.value_counts()"
   ]
  },
  {
   "cell_type": "markdown",
   "metadata": {},
   "source": [
    "**Looks like each store is selling 91,300 items during this timeframe.  Nice.**"
   ]
  },
  {
   "cell_type": "code",
   "execution_count": 29,
   "metadata": {},
   "outputs": [
    {
     "data": {
      "text/html": [
       "<div>\n",
       "<style scoped>\n",
       "    .dataframe tbody tr th:only-of-type {\n",
       "        vertical-align: middle;\n",
       "    }\n",
       "\n",
       "    .dataframe tbody tr th {\n",
       "        vertical-align: top;\n",
       "    }\n",
       "\n",
       "    .dataframe thead th {\n",
       "        text-align: right;\n",
       "    }\n",
       "</style>\n",
       "<table border=\"1\" class=\"dataframe\">\n",
       "  <thead>\n",
       "    <tr style=\"text-align: right;\">\n",
       "      <th></th>\n",
       "      <th>sale_amount</th>\n",
       "      <th>sale_id</th>\n",
       "      <th>store_address</th>\n",
       "      <th>store_city</th>\n",
       "      <th>store_id</th>\n",
       "      <th>store_state</th>\n",
       "      <th>store_zipcode</th>\n",
       "      <th>item_brand</th>\n",
       "      <th>item_id</th>\n",
       "      <th>item_name</th>\n",
       "      <th>item_price</th>\n",
       "      <th>item_upc12</th>\n",
       "      <th>item_upc14</th>\n",
       "    </tr>\n",
       "    <tr>\n",
       "      <th>sale_date</th>\n",
       "      <th></th>\n",
       "      <th></th>\n",
       "      <th></th>\n",
       "      <th></th>\n",
       "      <th></th>\n",
       "      <th></th>\n",
       "      <th></th>\n",
       "      <th></th>\n",
       "      <th></th>\n",
       "      <th></th>\n",
       "      <th></th>\n",
       "      <th></th>\n",
       "      <th></th>\n",
       "    </tr>\n",
       "  </thead>\n",
       "  <tbody>\n",
       "    <tr>\n",
       "      <th>2013-01-01 00:00:00+00:00</th>\n",
       "      <td>13.0</td>\n",
       "      <td>1</td>\n",
       "      <td>12125 Alamo Ranch Pkwy</td>\n",
       "      <td>San Antonio</td>\n",
       "      <td>1</td>\n",
       "      <td>TX</td>\n",
       "      <td>78253</td>\n",
       "      <td>Riceland</td>\n",
       "      <td>1</td>\n",
       "      <td>Riceland American Jazmine Rice</td>\n",
       "      <td>0.84</td>\n",
       "      <td>35200264013</td>\n",
       "      <td>35200264013</td>\n",
       "    </tr>\n",
       "    <tr>\n",
       "      <th>2013-01-01 00:00:00+00:00</th>\n",
       "      <td>37.0</td>\n",
       "      <td>219121</td>\n",
       "      <td>12125 Alamo Ranch Pkwy</td>\n",
       "      <td>San Antonio</td>\n",
       "      <td>1</td>\n",
       "      <td>TX</td>\n",
       "      <td>78253</td>\n",
       "      <td>Garnier Nutritioniste</td>\n",
       "      <td>13</td>\n",
       "      <td>Garnier Nutritioniste Moisture Rescue Fresh Cl...</td>\n",
       "      <td>6.47</td>\n",
       "      <td>603084234561</td>\n",
       "      <td>603084234561</td>\n",
       "    </tr>\n",
       "    <tr>\n",
       "      <th>2013-01-01 00:00:00+00:00</th>\n",
       "      <td>22.0</td>\n",
       "      <td>237381</td>\n",
       "      <td>12125 Alamo Ranch Pkwy</td>\n",
       "      <td>San Antonio</td>\n",
       "      <td>1</td>\n",
       "      <td>TX</td>\n",
       "      <td>78253</td>\n",
       "      <td>Pamprin</td>\n",
       "      <td>14</td>\n",
       "      <td>Pamprin Maximum Strength Multi-symptom Menstru...</td>\n",
       "      <td>7.54</td>\n",
       "      <td>41167300121</td>\n",
       "      <td>41167300121</td>\n",
       "    </tr>\n",
       "  </tbody>\n",
       "</table>\n",
       "</div>"
      ],
      "text/plain": [
       "                           sale_amount  sale_id           store_address  \\\n",
       "sale_date                                                                 \n",
       "2013-01-01 00:00:00+00:00         13.0        1  12125 Alamo Ranch Pkwy   \n",
       "2013-01-01 00:00:00+00:00         37.0   219121  12125 Alamo Ranch Pkwy   \n",
       "2013-01-01 00:00:00+00:00         22.0   237381  12125 Alamo Ranch Pkwy   \n",
       "\n",
       "                            store_city  store_id store_state  store_zipcode  \\\n",
       "sale_date                                                                     \n",
       "2013-01-01 00:00:00+00:00  San Antonio         1          TX          78253   \n",
       "2013-01-01 00:00:00+00:00  San Antonio         1          TX          78253   \n",
       "2013-01-01 00:00:00+00:00  San Antonio         1          TX          78253   \n",
       "\n",
       "                                      item_brand  item_id  \\\n",
       "sale_date                                                   \n",
       "2013-01-01 00:00:00+00:00               Riceland        1   \n",
       "2013-01-01 00:00:00+00:00  Garnier Nutritioniste       13   \n",
       "2013-01-01 00:00:00+00:00                Pamprin       14   \n",
       "\n",
       "                                                                   item_name  \\\n",
       "sale_date                                                                      \n",
       "2013-01-01 00:00:00+00:00                     Riceland American Jazmine Rice   \n",
       "2013-01-01 00:00:00+00:00  Garnier Nutritioniste Moisture Rescue Fresh Cl...   \n",
       "2013-01-01 00:00:00+00:00  Pamprin Maximum Strength Multi-symptom Menstru...   \n",
       "\n",
       "                           item_price    item_upc12    item_upc14  \n",
       "sale_date                                                          \n",
       "2013-01-01 00:00:00+00:00        0.84   35200264013   35200264013  \n",
       "2013-01-01 00:00:00+00:00        6.47  603084234561  603084234561  \n",
       "2013-01-01 00:00:00+00:00        7.54   41167300121   41167300121  "
      ]
     },
     "execution_count": 29,
     "metadata": {},
     "output_type": "execute_result"
    }
   ],
   "source": [
    "# Recall that each row is a transaction of a specific item_name / item_id:\n",
    "df[df.store_id == 1].head(3)\n",
    "\n",
    "# \"Get the dataframe and show me what happened at store location 1\""
   ]
  },
  {
   "cell_type": "markdown",
   "metadata": {},
   "source": [
    "**^^ Shows the transactions that happened at Store 1**"
   ]
  },
  {
   "cell_type": "code",
   "execution_count": 30,
   "metadata": {},
   "outputs": [
    {
     "data": {
      "text/plain": [
       "50"
      ]
     },
     "execution_count": 30,
     "metadata": {},
     "output_type": "execute_result"
    }
   ],
   "source": [
    "# Show me the number of unique items sold across all of the stores on all of the dates:\n",
    "\n",
    "df.item_name.nunique()"
   ]
  },
  {
   "cell_type": "code",
   "execution_count": 31,
   "metadata": {},
   "outputs": [
    {
     "data": {
      "text/plain": [
       "count       50.0\n",
       "mean     18260.0\n",
       "std          0.0\n",
       "min      18260.0\n",
       "25%      18260.0\n",
       "50%      18260.0\n",
       "75%      18260.0\n",
       "max      18260.0\n",
       "Name: item_name, dtype: float64"
      ]
     },
     "execution_count": 31,
     "metadata": {},
     "output_type": "execute_result"
    }
   ],
   "source": [
    "# Now show the quantity of items sold across all stores and dates.\n",
    "\n",
    "df.item_name.value_counts().describe()\n",
    "\n",
    "# \"Count the values in the item_name column, and give me a description of what you find.\""
   ]
  },
  {
   "cell_type": "markdown",
   "metadata": {},
   "source": [
    "#### ^^ Shows me there were 50 unique items.  Each item underwent 18,260 transactions."
   ]
  },
  {
   "cell_type": "code",
   "execution_count": 32,
   "metadata": {},
   "outputs": [
    {
     "data": {
      "text/html": [
       "<div>\n",
       "<style scoped>\n",
       "    .dataframe tbody tr th:only-of-type {\n",
       "        vertical-align: middle;\n",
       "    }\n",
       "\n",
       "    .dataframe tbody tr th {\n",
       "        vertical-align: top;\n",
       "    }\n",
       "\n",
       "    .dataframe thead th {\n",
       "        text-align: right;\n",
       "    }\n",
       "</style>\n",
       "<table border=\"1\" class=\"dataframe\">\n",
       "  <thead>\n",
       "    <tr style=\"text-align: right;\">\n",
       "      <th></th>\n",
       "      <th>sale_amount</th>\n",
       "      <th>sale_id</th>\n",
       "      <th>store_address</th>\n",
       "      <th>store_city</th>\n",
       "      <th>store_id</th>\n",
       "      <th>store_state</th>\n",
       "      <th>store_zipcode</th>\n",
       "      <th>item_brand</th>\n",
       "      <th>item_id</th>\n",
       "      <th>item_name</th>\n",
       "      <th>item_price</th>\n",
       "      <th>item_upc12</th>\n",
       "      <th>item_upc14</th>\n",
       "    </tr>\n",
       "    <tr>\n",
       "      <th>sale_date</th>\n",
       "      <th></th>\n",
       "      <th></th>\n",
       "      <th></th>\n",
       "      <th></th>\n",
       "      <th></th>\n",
       "      <th></th>\n",
       "      <th></th>\n",
       "      <th></th>\n",
       "      <th></th>\n",
       "      <th></th>\n",
       "      <th></th>\n",
       "      <th></th>\n",
       "      <th></th>\n",
       "    </tr>\n",
       "  </thead>\n",
       "  <tbody>\n",
       "    <tr>\n",
       "      <th>2013-01-01 00:00:00+00:00</th>\n",
       "      <td>13.0</td>\n",
       "      <td>1</td>\n",
       "      <td>12125 Alamo Ranch Pkwy</td>\n",
       "      <td>San Antonio</td>\n",
       "      <td>1</td>\n",
       "      <td>TX</td>\n",
       "      <td>78253</td>\n",
       "      <td>Riceland</td>\n",
       "      <td>1</td>\n",
       "      <td>Riceland American Jazmine Rice</td>\n",
       "      <td>0.84</td>\n",
       "      <td>35200264013</td>\n",
       "      <td>35200264013</td>\n",
       "    </tr>\n",
       "    <tr>\n",
       "      <th>2013-01-01 00:00:00+00:00</th>\n",
       "      <td>26.0</td>\n",
       "      <td>211817</td>\n",
       "      <td>12018 Perrin Beitel Rd</td>\n",
       "      <td>San Antonio</td>\n",
       "      <td>7</td>\n",
       "      <td>TX</td>\n",
       "      <td>78217</td>\n",
       "      <td>Mueller</td>\n",
       "      <td>12</td>\n",
       "      <td>Mueller Sport Care Basic Support Level Medium ...</td>\n",
       "      <td>8.40</td>\n",
       "      <td>74676640211</td>\n",
       "      <td>74676640211</td>\n",
       "    </tr>\n",
       "  </tbody>\n",
       "</table>\n",
       "</div>"
      ],
      "text/plain": [
       "                           sale_amount  sale_id           store_address  \\\n",
       "sale_date                                                                 \n",
       "2013-01-01 00:00:00+00:00         13.0        1  12125 Alamo Ranch Pkwy   \n",
       "2013-01-01 00:00:00+00:00         26.0   211817  12018 Perrin Beitel Rd   \n",
       "\n",
       "                            store_city  store_id store_state  store_zipcode  \\\n",
       "sale_date                                                                     \n",
       "2013-01-01 00:00:00+00:00  San Antonio         1          TX          78253   \n",
       "2013-01-01 00:00:00+00:00  San Antonio         7          TX          78217   \n",
       "\n",
       "                          item_brand  item_id  \\\n",
       "sale_date                                       \n",
       "2013-01-01 00:00:00+00:00   Riceland        1   \n",
       "2013-01-01 00:00:00+00:00    Mueller       12   \n",
       "\n",
       "                                                                   item_name  \\\n",
       "sale_date                                                                      \n",
       "2013-01-01 00:00:00+00:00                     Riceland American Jazmine Rice   \n",
       "2013-01-01 00:00:00+00:00  Mueller Sport Care Basic Support Level Medium ...   \n",
       "\n",
       "                           item_price   item_upc12   item_upc14  \n",
       "sale_date                                                        \n",
       "2013-01-01 00:00:00+00:00        0.84  35200264013  35200264013  \n",
       "2013-01-01 00:00:00+00:00        8.40  74676640211  74676640211  "
      ]
     },
     "execution_count": 32,
     "metadata": {},
     "output_type": "execute_result"
    }
   ],
   "source": [
    "df.head(2)"
   ]
  },
  {
   "cell_type": "code",
   "execution_count": 33,
   "metadata": {},
   "outputs": [
    {
     "data": {
      "text/plain": [
       "(913000, 13)"
      ]
     },
     "execution_count": 33,
     "metadata": {},
     "output_type": "execute_result"
    }
   ],
   "source": [
    "df.shape"
   ]
  },
  {
   "cell_type": "markdown",
   "metadata": {},
   "source": [
    "#### ^^ Remember that 913,000 rows == 913,000 individual transactions of the item ('item_name') at a given store ('store_id').  So to recap the above, there are 50 unique items.  Each of the 50 unique items was sold 18,260 times."
   ]
  },
  {
   "cell_type": "markdown",
   "metadata": {},
   "source": [
    "### Next steps:\n",
    "\n",
    "- reset the index so that 'sale_date' becomes a feature.  As a feature, we can do stuff with it, like '.sum', '.mean', etc\n",
    "\n",
    "- then group by 'store_id' and 'item_id' to show which stores had which items\n",
    "\n",
    "- finally, perform the necessary aggregates to answer the questions"
   ]
  },
  {
   "cell_type": "code",
   "execution_count": 34,
   "metadata": {},
   "outputs": [
    {
     "data": {
      "text/plain": [
       "store_id  item_id\n",
       "1         1         2013-01-01 00:00:00+00:00\n",
       "          2         2013-01-01 00:00:00+00:00\n",
       "          3         2013-01-01 00:00:00+00:00\n",
       "          4         2013-01-01 00:00:00+00:00\n",
       "          5         2013-01-01 00:00:00+00:00\n",
       "                               ...           \n",
       "10        46        2013-01-01 00:00:00+00:00\n",
       "          47        2013-01-01 00:00:00+00:00\n",
       "          48        2013-01-01 00:00:00+00:00\n",
       "          49        2013-01-01 00:00:00+00:00\n",
       "          50        2013-01-01 00:00:00+00:00\n",
       "Name: sale_date, Length: 500, dtype: datetime64[ns, UTC]"
      ]
     },
     "execution_count": 34,
     "metadata": {},
     "output_type": "execute_result"
    }
   ],
   "source": [
    "first_sale_per_storeitem = df.reset_index().groupby([\"store_id\", \"item_id\"]).sale_date.min()\n",
    "\n",
    "# \"On the df, reset the index from 'sale_date' back to its original (0, 1, 2, 3, 4...) and show me which stores\n",
    "# sole which items by grouping 'store_id' and 'item_id'.  Organize what you give back to me by the earliest (min) \n",
    "# 'sale_date'\n",
    "\n",
    "first_sale_per_storeitem"
   ]
  },
  {
   "cell_type": "markdown",
   "metadata": {},
   "source": [
    "#### ^^ Truncated, but tells us Store 1's first sale of item 1 was Jan 1st, 2013.  Same for all the other items at all the other stores.  Or is it?  To check if Jan 1, 2013 is the first date for all store / item combos, get the unique dates from the first_sale_per_store_item variable above.  It will return an array - if there's only one value, then yes, Jan 1, 2013 was is the first date in all the store / item combos."
   ]
  },
  {
   "cell_type": "code",
   "execution_count": 35,
   "metadata": {},
   "outputs": [
    {
     "data": {
      "text/plain": [
       "<DatetimeArray>\n",
       "['2013-01-01 00:00:00+00:00']\n",
       "Length: 1, dtype: datetime64[ns, UTC]"
      ]
     },
     "execution_count": 35,
     "metadata": {},
     "output_type": "execute_result"
    }
   ],
   "source": [
    "first_sale_per_storeitem.unique()"
   ]
  },
  {
   "cell_type": "markdown",
   "metadata": {},
   "source": [
    "**Yup.  Jan 1, 2013 was kickoff day for all items at all stores**"
   ]
  },
  {
   "cell_type": "code",
   "execution_count": 36,
   "metadata": {},
   "outputs": [
    {
     "data": {
      "text/plain": [
       "store_id  item_id\n",
       "1         1         2017-12-31 00:00:00+00:00\n",
       "          2         2017-12-31 00:00:00+00:00\n",
       "          3         2017-12-31 00:00:00+00:00\n",
       "          4         2017-12-31 00:00:00+00:00\n",
       "          5         2017-12-31 00:00:00+00:00\n",
       "Name: sale_date, dtype: datetime64[ns, UTC]"
      ]
     },
     "execution_count": 36,
     "metadata": {},
     "output_type": "execute_result"
    }
   ],
   "source": [
    "# To find the most recent transactions (.max) for each store / item combo:\n",
    "last_sale_per_storeitem = df.reset_index().groupby([\"store_id\", \"item_id\"]).sale_date.max()\n",
    "\n",
    "# \"On the df, reset the index from 'sale_date' back to its original (0, 1, 2, 3, 4...) and show me which stores\n",
    "# sold which items by grouping 'store_id' and 'item_id'.  Organize what you give back to me by the latest (max) \n",
    "# 'sale_date'\n",
    "\n",
    "last_sale_per_storeitem[0:5] # show me the first five rows"
   ]
  },
  {
   "cell_type": "markdown",
   "metadata": {},
   "source": [
    "**Same as above: is Dec 31, 2017 the last date of sale for all store / item combos?**"
   ]
  },
  {
   "cell_type": "code",
   "execution_count": 37,
   "metadata": {},
   "outputs": [
    {
     "data": {
      "text/plain": [
       "<DatetimeArray>\n",
       "['2017-12-31 00:00:00+00:00']\n",
       "Length: 1, dtype: datetime64[ns, UTC]"
      ]
     },
     "execution_count": 37,
     "metadata": {},
     "output_type": "execute_result"
    }
   ],
   "source": [
    "last_sale_per_storeitem.unique()"
   ]
  },
  {
   "cell_type": "markdown",
   "metadata": {},
   "source": [
    "**One array is returned.  Yup.  Last recorded sale of any item from any store**"
   ]
  },
  {
   "cell_type": "code",
   "execution_count": 38,
   "metadata": {},
   "outputs": [
    {
     "data": {
      "text/plain": [
       "store_id  item_id\n",
       "1         1          1826\n",
       "          2          1826\n",
       "          3          1826\n",
       "          4          1826\n",
       "          5          1826\n",
       "Name: sale_date, dtype: int64"
      ]
     },
     "execution_count": 38,
     "metadata": {},
     "output_type": "execute_result"
    }
   ],
   "source": [
    "# To find on how many different days each item sold at each store:\n",
    "\n",
    "days_per_storeitem = df.reset_index().groupby([\"store_id\", \"item_id\"]).sale_date.nunique()\n",
    "\n",
    "#\"On the df, reset the index from 'sale_date' back to its original (0, 1, 2, 3, 4...) and show me which stores\n",
    "# sold which items by grouping 'store_id' and 'item_id'.  Using '.nunique()', show me a count of how many times\n",
    "# each item was sold at each store.\"\n",
    "\n",
    "days_per_storeitem[0:5] # \"Just give me the first 5 rows\""
   ]
  },
  {
   "cell_type": "markdown",
   "metadata": {},
   "source": [
    "**Each of the first 5 items from Store 1 sold 1,826 times.  But did each item at each store sell that many times?**"
   ]
  },
  {
   "cell_type": "code",
   "execution_count": 39,
   "metadata": {},
   "outputs": [
    {
     "data": {
      "text/plain": [
       "array([1826])"
      ]
     },
     "execution_count": 39,
     "metadata": {},
     "output_type": "execute_result"
    }
   ],
   "source": [
    "days_per_storeitem.unique()"
   ]
  },
  {
   "cell_type": "markdown",
   "metadata": {},
   "source": [
    "**A single array came back, meaning there's only one unique number in all 'store_id' / 'item_id' combinations**"
   ]
  },
  {
   "cell_type": "code",
   "execution_count": 40,
   "metadata": {},
   "outputs": [
    {
     "data": {
      "text/plain": [
       "sale_date\n",
       "2013-01-01 00:00:00+00:00    13696.0\n",
       "2013-01-02 00:00:00+00:00    13678.0\n",
       "2013-01-03 00:00:00+00:00    14488.0\n",
       "2013-01-04 00:00:00+00:00    15677.0\n",
       "2013-01-05 00:00:00+00:00    16237.0\n",
       "Name: sale_amount, dtype: float64"
      ]
     },
     "execution_count": 40,
     "metadata": {},
     "output_type": "execute_result"
    }
   ],
   "source": [
    "# Quantity of items sold per day overall, NOT brokend down by 'store_id'\n",
    "\n",
    "df.groupby(\"sale_date\").sale_amount.sum().head() \n",
    "\n",
    "# \"Bunch all the data from 'sale_date' column and sum the number of sales ('sale_amount')on each date.\""
   ]
  },
  {
   "cell_type": "markdown",
   "metadata": {},
   "source": [
    "### Resampling:\n",
    "\n",
    "- Lets us redefine the frequency of our data - gives us more datapoints\n",
    "\n",
    "- Doing so changes the time-window of our focus\n",
    "\n",
    "- Two types of resampling:\n",
    "\n",
    "    1.) Downsampling; and\n",
    "    \n",
    "    2.) Upsampling"
   ]
  },
  {
   "cell_type": "markdown",
   "metadata": {},
   "source": [
    "#### Downsampling:\n",
    "\n",
    "- redefines our data to give us more datapoints\n",
    "\n",
    "- since we're pulling datapoints out of thin air, there will be loads of Nan values\n",
    "\n",
    "- For example: if our original data is in days, we would downsample to see hours, minutes, seconds, etc\n",
    "    \n",
    "- We would do this to merge less granular data (\"what happened in 2016\") with more granular data (\"what happened on July 10, 2016\")\n",
    "\n",
    "- B/c we'll have more NaNs, we'll need to deal with them, usually with '.ffill' or '.bfill':\n",
    "    \n",
    "    1.) '.ffill' - moves the previous observation forward; fills na's with the corresponding value on the previous row\n",
    "    \n",
    "    2.) '.bfill' - fills na's with the corresponding column value on the next row"
   ]
  },
  {
   "cell_type": "code",
   "execution_count": 41,
   "metadata": {},
   "outputs": [
    {
     "data": {
      "text/plain": [
       "sale_date\n",
       "2013-01-01 00:00:00+00:00    13696.0\n",
       "2013-01-01 12:00:00+00:00        NaN\n",
       "2013-01-02 00:00:00+00:00    13678.0\n",
       "2013-01-02 12:00:00+00:00        NaN\n",
       "2013-01-03 00:00:00+00:00    14488.0\n",
       "Freq: 12H, Name: sale_amount, dtype: float64"
      ]
     },
     "execution_count": 41,
     "metadata": {},
     "output_type": "execute_result"
    }
   ],
   "source": [
    "# Downsampling example:\n",
    "\n",
    "downsampling_example = df.groupby(\"sale_date\").sale_amount.sum().asfreq(\"12H\")\n",
    "\n",
    "# \"Give me the sum of the sales by date ('sale_date') that happen every 12 hours\"\n",
    "\n",
    "downsampling_example.head(5)"
   ]
  },
  {
   "cell_type": "code",
   "execution_count": 42,
   "metadata": {},
   "outputs": [
    {
     "data": {
      "text/plain": [
       "sale_date\n",
       "2013-01-01 00:00:00+00:00    13696.0\n",
       "2013-01-01 12:00:00+00:00    13696.0\n",
       "2013-01-02 00:00:00+00:00    13678.0\n",
       "2013-01-02 12:00:00+00:00    13678.0\n",
       "2013-01-03 00:00:00+00:00    14488.0\n",
       "Freq: 12H, Name: sale_amount, dtype: float64"
      ]
     },
     "execution_count": 42,
     "metadata": {},
     "output_type": "execute_result"
    }
   ],
   "source": [
    "# using '.ffill()' to take care of NaN's:\n",
    "\n",
    "downsampling_example.ffill().head()\n",
    "\n",
    "# See how it takes the previous value and places it into the NaN value from above?"
   ]
  },
  {
   "cell_type": "code",
   "execution_count": 43,
   "metadata": {},
   "outputs": [
    {
     "data": {
      "text/plain": [
       "sale_date\n",
       "2013-01-01 00:00:00+00:00    13696.0\n",
       "2013-01-01 12:00:00+00:00    13678.0\n",
       "2013-01-02 00:00:00+00:00    13678.0\n",
       "2013-01-02 12:00:00+00:00    14488.0\n",
       "2013-01-03 00:00:00+00:00    14488.0\n",
       "Freq: 12H, Name: sale_amount, dtype: float64"
      ]
     },
     "execution_count": 43,
     "metadata": {},
     "output_type": "execute_result"
    }
   ],
   "source": [
    "# using '.bfill()' to take care of NaN's:\n",
    "\n",
    "downsampling_example.bfill().head()\n",
    "\n",
    "# Notice how BFILL fills in the NaN with the NEXT value"
   ]
  },
  {
   "cell_type": "markdown",
   "metadata": {},
   "source": [
    "#### For the store data, '.ffill( )' seems like a better option because we've split the data into 12-hour (half-day) chuncks.  By forward-filling, we can explain it as \"well, those NaNs were the hours we were closed.  We're only open from 12 hours a day.\"  If we filled NaN's using '.bfill( )', it would seem like more of a prediction - we don't know what the next day's sales are gonna look like."
   ]
  },
  {
   "cell_type": "markdown",
   "metadata": {},
   "source": [
    "### Unsampling:\n",
    "\n",
    "- means to create fewer datapoints\n",
    "\n",
    "- we lose granulatity.  For instance our annual data is by single day, but instead of a bunch of jagged lines, we want to see more spread out data; intead of what happened each day, we want to see what happened each week (takes our number of datapoints down from 365 to 52)\n",
    "\n",
    "- it is **CRITICAL** we use the '.resample' function when usampling.  If you don't use '.resample', you LOSE DATA."
   ]
  },
  {
   "cell_type": "code",
   "execution_count": 44,
   "metadata": {},
   "outputs": [
    {
     "data": {
      "text/plain": [
       "sale_date\n",
       "2013-01-06 00:00:00+00:00     91067.0\n",
       "2013-01-13 00:00:00+00:00    103902.0\n",
       "2013-01-20 00:00:00+00:00    102950.0\n",
       "2013-01-27 00:00:00+00:00    103298.0\n",
       "2013-02-03 00:00:00+00:00    109027.0\n",
       "Freq: W-SUN, Name: sale_amount, dtype: float64"
      ]
     },
     "execution_count": 44,
     "metadata": {},
     "output_type": "execute_result"
    }
   ],
   "source": [
    "# When we \".resample()\" by the week, we provide an aggregate function to aggreagate all of the granular data.\n",
    "\n",
    "# \".resample()\" applies the aggregate function to all the datapoints in teh time frame to give us the right answer:\n",
    "\n",
    "df.sale_amount.resample(\"W\").sum().head()\n",
    "\n",
    "# \"Resample the 'sale_amount' from days into weeks (\"W\"), then add them together \n",
    "# and give me the first five rows of data\""
   ]
  },
  {
   "cell_type": "markdown",
   "metadata": {},
   "source": [
    "**^^ Note how the 'sale_date' is weekly**"
   ]
  },
  {
   "cell_type": "code",
   "execution_count": 45,
   "metadata": {},
   "outputs": [
    {
     "data": {
      "text/plain": [
       "sale_date\n",
       "2013-01-31 00:00:00+00:00    454904.0\n",
       "2013-02-28 00:00:00+00:00    459417.0\n",
       "2013-03-31 00:00:00+00:00    617382.0\n",
       "2013-04-30 00:00:00+00:00    682274.0\n",
       "2013-05-31 00:00:00+00:00    763242.0\n",
       "Freq: M, Name: sale_amount, dtype: float64"
      ]
     },
     "execution_count": 45,
     "metadata": {},
     "output_type": "execute_result"
    }
   ],
   "source": [
    "# To show the total sales of the month, upsample by month (\"M\") and aggregate by '.sum()'\n",
    "\n",
    "df.sale_amount.resample(\"M\").sum().head()"
   ]
  },
  {
   "cell_type": "markdown",
   "metadata": {},
   "source": [
    "**^^ Now note how the 'sale_amount' is monthly**"
   ]
  },
  {
   "cell_type": "code",
   "execution_count": 46,
   "metadata": {},
   "outputs": [
    {
     "data": {
      "text/plain": [
       "store_id  sale_date                \n",
       "1         2015-06-30 00:00:00+00:00    1500\n",
       "          2015-07-31 00:00:00+00:00    1550\n",
       "          2015-08-31 00:00:00+00:00    1550\n",
       "2         2015-06-30 00:00:00+00:00    1500\n",
       "          2015-07-31 00:00:00+00:00    1550\n",
       "Name: sale_amount, dtype: int64"
      ]
     },
     "execution_count": 46,
     "metadata": {},
     "output_type": "execute_result"
    }
   ],
   "source": [
    "# You can get even more specific.  To show the rows for the Summer months of 2015, \n",
    "# groupby 'store_id', unsample by month (\"M\"), and aggregate by count \n",
    "# to produce the number of rows per month:\n",
    "\n",
    "df.loc[\"2015-06\" : \"2015-08\"].groupby(\"store_id\").sale_amount.resample(\"M\").count().head()\n",
    "\n",
    "# \"At locations matching the 6th through the 8th months of 2016, group the data by \"store_id,\" and show me the \n",
    "# monthly sales amount for each of the three months"
   ]
  },
  {
   "cell_type": "code",
   "execution_count": 47,
   "metadata": {},
   "outputs": [
    {
     "data": {
      "text/plain": [
       "sale_date\n",
       "2013-12-31 00:00:00+00:00     7941243.0\n",
       "2014-12-31 00:00:00+00:00     9135482.0\n",
       "2015-12-31 00:00:00+00:00     9536887.0\n",
       "2016-12-31 00:00:00+00:00    10357160.0\n",
       "2017-12-31 00:00:00+00:00    10733740.0\n",
       "Freq: A-DEC, Name: sale_amount, dtype: float64"
      ]
     },
     "execution_count": 47,
     "metadata": {},
     "output_type": "execute_result"
    }
   ],
   "source": [
    "# To show sales by year, we just upsample to \"Y\":\n",
    "df.sale_amount.resample(\"Y\").sum()"
   ]
  },
  {
   "cell_type": "markdown",
   "metadata": {},
   "source": [
    "**^^ Note 'sale_date' is the year**"
   ]
  },
  {
   "cell_type": "markdown",
   "metadata": {},
   "source": [
    "#### Date Frequency Strings:\n",
    "\n",
    "- MANNNNNY more resampling options available besides \"H\", \"D\", \"M\", \"Y\" - check Pandas docs"
   ]
  },
  {
   "cell_type": "markdown",
   "metadata": {},
   "source": [
    "### Checking for time gaps in data:\n",
    "\n",
    "- nulls don't detect gaps in time\n",
    "\n",
    "- check the number of rows against the number of timedeltas that may exist between the datetime min and datetime max\n",
    "\n",
    "- this check will let us know if there are any gaps in the time data we need to handle\n",
    "\n",
    "- **df.index.max() - df.index.min() + 1 unit of the observation** is how you count timedeltas"
   ]
  },
  {
   "cell_type": "code",
   "execution_count": 48,
   "metadata": {},
   "outputs": [
    {
     "name": "stdout",
     "output_type": "stream",
     "text": [
      "Number of rows: 1826\n",
      "Number of timedeltas of a day: 1826 days 00:00:00\n"
     ]
    }
   ],
   "source": [
    "print(f\"Number of rows: {df.index.nunique()}\")\n",
    "print(f\"Number of timedeltas of a day: {df.index.max() - df.index.min() + timedelta(days=1)}\")"
   ]
  },
  {
   "cell_type": "markdown",
   "metadata": {},
   "source": [
    "**^^ No timedeltas in our data, so no gaps.** "
   ]
  },
  {
   "cell_type": "markdown",
   "metadata": {},
   "source": [
    "### Handling Nulls\n",
    "\n",
    "- Nulls could be coming from new rows being written willy nilly and not according to specific periods\n",
    "\n",
    "- Updates mean old data recorded over different time periods than new data (eg: used to be weekly, now data is daily)\n",
    "\n",
    "- Downsampling (remember: just adding datapoints without real data behind them)"
   ]
  },
  {
   "cell_type": "code",
   "execution_count": 49,
   "metadata": {},
   "outputs": [
    {
     "data": {
      "text/html": [
       "<div>\n",
       "<style scoped>\n",
       "    .dataframe tbody tr th:only-of-type {\n",
       "        vertical-align: middle;\n",
       "    }\n",
       "\n",
       "    .dataframe tbody tr th {\n",
       "        vertical-align: top;\n",
       "    }\n",
       "\n",
       "    .dataframe thead th {\n",
       "        text-align: right;\n",
       "    }\n",
       "</style>\n",
       "<table border=\"1\" class=\"dataframe\">\n",
       "  <thead>\n",
       "    <tr style=\"text-align: right;\">\n",
       "      <th></th>\n",
       "      <th>sale_amount</th>\n",
       "    </tr>\n",
       "    <tr>\n",
       "      <th>sale_date</th>\n",
       "      <th></th>\n",
       "    </tr>\n",
       "  </thead>\n",
       "  <tbody>\n",
       "    <tr>\n",
       "      <th>2013-01-01 00:00:00+00:00</th>\n",
       "      <td>13696.0</td>\n",
       "    </tr>\n",
       "    <tr>\n",
       "      <th>2013-01-01 12:00:00+00:00</th>\n",
       "      <td>NaN</td>\n",
       "    </tr>\n",
       "    <tr>\n",
       "      <th>2013-01-02 00:00:00+00:00</th>\n",
       "      <td>13678.0</td>\n",
       "    </tr>\n",
       "    <tr>\n",
       "      <th>2013-01-02 12:00:00+00:00</th>\n",
       "      <td>NaN</td>\n",
       "    </tr>\n",
       "    <tr>\n",
       "      <th>2013-01-03 00:00:00+00:00</th>\n",
       "      <td>14488.0</td>\n",
       "    </tr>\n",
       "    <tr>\n",
       "      <th>...</th>\n",
       "      <td>...</td>\n",
       "    </tr>\n",
       "    <tr>\n",
       "      <th>2017-12-29 00:00:00+00:00</th>\n",
       "      <td>23535.0</td>\n",
       "    </tr>\n",
       "    <tr>\n",
       "      <th>2017-12-29 12:00:00+00:00</th>\n",
       "      <td>NaN</td>\n",
       "    </tr>\n",
       "    <tr>\n",
       "      <th>2017-12-30 00:00:00+00:00</th>\n",
       "      <td>24988.0</td>\n",
       "    </tr>\n",
       "    <tr>\n",
       "      <th>2017-12-30 12:00:00+00:00</th>\n",
       "      <td>NaN</td>\n",
       "    </tr>\n",
       "    <tr>\n",
       "      <th>2017-12-31 00:00:00+00:00</th>\n",
       "      <td>26420.0</td>\n",
       "    </tr>\n",
       "  </tbody>\n",
       "</table>\n",
       "<p>3651 rows × 1 columns</p>\n",
       "</div>"
      ],
      "text/plain": [
       "                           sale_amount\n",
       "sale_date                             \n",
       "2013-01-01 00:00:00+00:00      13696.0\n",
       "2013-01-01 12:00:00+00:00          NaN\n",
       "2013-01-02 00:00:00+00:00      13678.0\n",
       "2013-01-02 12:00:00+00:00          NaN\n",
       "2013-01-03 00:00:00+00:00      14488.0\n",
       "...                                ...\n",
       "2017-12-29 00:00:00+00:00      23535.0\n",
       "2017-12-29 12:00:00+00:00          NaN\n",
       "2017-12-30 00:00:00+00:00      24988.0\n",
       "2017-12-30 12:00:00+00:00          NaN\n",
       "2017-12-31 00:00:00+00:00      26420.0\n",
       "\n",
       "[3651 rows x 1 columns]"
      ]
     },
     "execution_count": 49,
     "metadata": {},
     "output_type": "execute_result"
    }
   ],
   "source": [
    "# Say we downsample from daily data to 12-hour freqeuncies:\n",
    "\n",
    "nan_example = df.groupby(\"sale_date\").sum().asfreq(\"12H\")[[\"sale_amount\"]]\n",
    "\n",
    "# \"Show me the \"sale_amount\" from every 12-hour period of all the \"sale_date(s)\"\n",
    "\n",
    "nan_example"
   ]
  },
  {
   "cell_type": "code",
   "execution_count": 50,
   "metadata": {},
   "outputs": [
    {
     "data": {
      "text/html": [
       "<div>\n",
       "<style scoped>\n",
       "    .dataframe tbody tr th:only-of-type {\n",
       "        vertical-align: middle;\n",
       "    }\n",
       "\n",
       "    .dataframe tbody tr th {\n",
       "        vertical-align: top;\n",
       "    }\n",
       "\n",
       "    .dataframe thead th {\n",
       "        text-align: right;\n",
       "    }\n",
       "</style>\n",
       "<table border=\"1\" class=\"dataframe\">\n",
       "  <thead>\n",
       "    <tr style=\"text-align: right;\">\n",
       "      <th></th>\n",
       "      <th>sale_amount</th>\n",
       "      <th>ffill</th>\n",
       "    </tr>\n",
       "    <tr>\n",
       "      <th>sale_date</th>\n",
       "      <th></th>\n",
       "      <th></th>\n",
       "    </tr>\n",
       "  </thead>\n",
       "  <tbody>\n",
       "    <tr>\n",
       "      <th>2013-01-01 00:00:00+00:00</th>\n",
       "      <td>13696.0</td>\n",
       "      <td>13696.0</td>\n",
       "    </tr>\n",
       "    <tr>\n",
       "      <th>2013-01-01 12:00:00+00:00</th>\n",
       "      <td>NaN</td>\n",
       "      <td>13696.0</td>\n",
       "    </tr>\n",
       "    <tr>\n",
       "      <th>2013-01-02 00:00:00+00:00</th>\n",
       "      <td>13678.0</td>\n",
       "      <td>13678.0</td>\n",
       "    </tr>\n",
       "    <tr>\n",
       "      <th>2013-01-02 12:00:00+00:00</th>\n",
       "      <td>NaN</td>\n",
       "      <td>13678.0</td>\n",
       "    </tr>\n",
       "    <tr>\n",
       "      <th>2013-01-03 00:00:00+00:00</th>\n",
       "      <td>14488.0</td>\n",
       "      <td>14488.0</td>\n",
       "    </tr>\n",
       "    <tr>\n",
       "      <th>...</th>\n",
       "      <td>...</td>\n",
       "      <td>...</td>\n",
       "    </tr>\n",
       "    <tr>\n",
       "      <th>2017-12-29 00:00:00+00:00</th>\n",
       "      <td>23535.0</td>\n",
       "      <td>23535.0</td>\n",
       "    </tr>\n",
       "    <tr>\n",
       "      <th>2017-12-29 12:00:00+00:00</th>\n",
       "      <td>NaN</td>\n",
       "      <td>23535.0</td>\n",
       "    </tr>\n",
       "    <tr>\n",
       "      <th>2017-12-30 00:00:00+00:00</th>\n",
       "      <td>24988.0</td>\n",
       "      <td>24988.0</td>\n",
       "    </tr>\n",
       "    <tr>\n",
       "      <th>2017-12-30 12:00:00+00:00</th>\n",
       "      <td>NaN</td>\n",
       "      <td>24988.0</td>\n",
       "    </tr>\n",
       "    <tr>\n",
       "      <th>2017-12-31 00:00:00+00:00</th>\n",
       "      <td>26420.0</td>\n",
       "      <td>26420.0</td>\n",
       "    </tr>\n",
       "  </tbody>\n",
       "</table>\n",
       "<p>3651 rows × 2 columns</p>\n",
       "</div>"
      ],
      "text/plain": [
       "                           sale_amount    ffill\n",
       "sale_date                                      \n",
       "2013-01-01 00:00:00+00:00      13696.0  13696.0\n",
       "2013-01-01 12:00:00+00:00          NaN  13696.0\n",
       "2013-01-02 00:00:00+00:00      13678.0  13678.0\n",
       "2013-01-02 12:00:00+00:00          NaN  13678.0\n",
       "2013-01-03 00:00:00+00:00      14488.0  14488.0\n",
       "...                                ...      ...\n",
       "2017-12-29 00:00:00+00:00      23535.0  23535.0\n",
       "2017-12-29 12:00:00+00:00          NaN  23535.0\n",
       "2017-12-30 00:00:00+00:00      24988.0  24988.0\n",
       "2017-12-30 12:00:00+00:00          NaN  24988.0\n",
       "2017-12-31 00:00:00+00:00      26420.0  26420.0\n",
       "\n",
       "[3651 rows x 2 columns]"
      ]
     },
     "execution_count": 50,
     "metadata": {},
     "output_type": "execute_result"
    }
   ],
   "source": [
    "# .ffill()\n",
    "\n",
    "nan_example[\"ffill\"] = nan_example.sale_amount.ffill()\n",
    "\n",
    "# \"We're gonna add a column to the df called 'ffill', and in it, we want to ffill the nans that were there.\"\n",
    "\n",
    "nan_example"
   ]
  },
  {
   "cell_type": "code",
   "execution_count": 51,
   "metadata": {},
   "outputs": [
    {
     "data": {
      "text/html": [
       "<div>\n",
       "<style scoped>\n",
       "    .dataframe tbody tr th:only-of-type {\n",
       "        vertical-align: middle;\n",
       "    }\n",
       "\n",
       "    .dataframe tbody tr th {\n",
       "        vertical-align: top;\n",
       "    }\n",
       "\n",
       "    .dataframe thead th {\n",
       "        text-align: right;\n",
       "    }\n",
       "</style>\n",
       "<table border=\"1\" class=\"dataframe\">\n",
       "  <thead>\n",
       "    <tr style=\"text-align: right;\">\n",
       "      <th></th>\n",
       "      <th>sale_amount</th>\n",
       "      <th>ffill</th>\n",
       "      <th>bfill</th>\n",
       "    </tr>\n",
       "    <tr>\n",
       "      <th>sale_date</th>\n",
       "      <th></th>\n",
       "      <th></th>\n",
       "      <th></th>\n",
       "    </tr>\n",
       "  </thead>\n",
       "  <tbody>\n",
       "    <tr>\n",
       "      <th>2013-01-01 00:00:00+00:00</th>\n",
       "      <td>13696.0</td>\n",
       "      <td>13696.0</td>\n",
       "      <td>13696.0</td>\n",
       "    </tr>\n",
       "    <tr>\n",
       "      <th>2013-01-01 12:00:00+00:00</th>\n",
       "      <td>NaN</td>\n",
       "      <td>13696.0</td>\n",
       "      <td>13678.0</td>\n",
       "    </tr>\n",
       "    <tr>\n",
       "      <th>2013-01-02 00:00:00+00:00</th>\n",
       "      <td>13678.0</td>\n",
       "      <td>13678.0</td>\n",
       "      <td>13678.0</td>\n",
       "    </tr>\n",
       "    <tr>\n",
       "      <th>2013-01-02 12:00:00+00:00</th>\n",
       "      <td>NaN</td>\n",
       "      <td>13678.0</td>\n",
       "      <td>14488.0</td>\n",
       "    </tr>\n",
       "    <tr>\n",
       "      <th>2013-01-03 00:00:00+00:00</th>\n",
       "      <td>14488.0</td>\n",
       "      <td>14488.0</td>\n",
       "      <td>14488.0</td>\n",
       "    </tr>\n",
       "    <tr>\n",
       "      <th>...</th>\n",
       "      <td>...</td>\n",
       "      <td>...</td>\n",
       "      <td>...</td>\n",
       "    </tr>\n",
       "    <tr>\n",
       "      <th>2017-12-29 00:00:00+00:00</th>\n",
       "      <td>23535.0</td>\n",
       "      <td>23535.0</td>\n",
       "      <td>23535.0</td>\n",
       "    </tr>\n",
       "    <tr>\n",
       "      <th>2017-12-29 12:00:00+00:00</th>\n",
       "      <td>NaN</td>\n",
       "      <td>23535.0</td>\n",
       "      <td>24988.0</td>\n",
       "    </tr>\n",
       "    <tr>\n",
       "      <th>2017-12-30 00:00:00+00:00</th>\n",
       "      <td>24988.0</td>\n",
       "      <td>24988.0</td>\n",
       "      <td>24988.0</td>\n",
       "    </tr>\n",
       "    <tr>\n",
       "      <th>2017-12-30 12:00:00+00:00</th>\n",
       "      <td>NaN</td>\n",
       "      <td>24988.0</td>\n",
       "      <td>26420.0</td>\n",
       "    </tr>\n",
       "    <tr>\n",
       "      <th>2017-12-31 00:00:00+00:00</th>\n",
       "      <td>26420.0</td>\n",
       "      <td>26420.0</td>\n",
       "      <td>26420.0</td>\n",
       "    </tr>\n",
       "  </tbody>\n",
       "</table>\n",
       "<p>3651 rows × 3 columns</p>\n",
       "</div>"
      ],
      "text/plain": [
       "                           sale_amount    ffill    bfill\n",
       "sale_date                                               \n",
       "2013-01-01 00:00:00+00:00      13696.0  13696.0  13696.0\n",
       "2013-01-01 12:00:00+00:00          NaN  13696.0  13678.0\n",
       "2013-01-02 00:00:00+00:00      13678.0  13678.0  13678.0\n",
       "2013-01-02 12:00:00+00:00          NaN  13678.0  14488.0\n",
       "2013-01-03 00:00:00+00:00      14488.0  14488.0  14488.0\n",
       "...                                ...      ...      ...\n",
       "2017-12-29 00:00:00+00:00      23535.0  23535.0  23535.0\n",
       "2017-12-29 12:00:00+00:00          NaN  23535.0  24988.0\n",
       "2017-12-30 00:00:00+00:00      24988.0  24988.0  24988.0\n",
       "2017-12-30 12:00:00+00:00          NaN  24988.0  26420.0\n",
       "2017-12-31 00:00:00+00:00      26420.0  26420.0  26420.0\n",
       "\n",
       "[3651 rows x 3 columns]"
      ]
     },
     "execution_count": 51,
     "metadata": {},
     "output_type": "execute_result"
    }
   ],
   "source": [
    "# bfill()\n",
    "\n",
    "nan_example[\"bfill\"] = nan_example.sale_amount.bfill()\n",
    "\n",
    "nan_example"
   ]
  },
  {
   "cell_type": "markdown",
   "metadata": {},
   "source": [
    "### Rolling Windows\n",
    "\n",
    "- Allow us to add windows of time\n",
    "\n",
    "- We can use agg functions to create rolling averages (\"moving averages\"), rolling counts, rolling min and max, etc."
   ]
  },
  {
   "cell_type": "code",
   "execution_count": 52,
   "metadata": {},
   "outputs": [],
   "source": [
    "rolling_example = pd.DataFrame()\n",
    "\n",
    "rolling_example[\"daily_average\"] = df.loc[\"2015\" : \"2016\"].groupby(\"sale_date\").sale_amount.mean()\n",
    "\n",
    "# \"We're adding the column 'daily_average' to the rolling_example df.  \n",
    "# In it, we're putting the average amount of each sale w/in the sales_dates between 2015 and 2016\"\n",
    "\n",
    "rolling_example[\"30_day_avg\"] = rolling_example.daily_average.rolling(30).mean()\n",
    "\n",
    "rolling_example[\"90_day_avg\"] = rolling_example.daily_average.rolling(90).mean()"
   ]
  },
  {
   "cell_type": "code",
   "execution_count": 53,
   "metadata": {},
   "outputs": [
    {
     "data": {
      "text/html": [
       "<div>\n",
       "<style scoped>\n",
       "    .dataframe tbody tr th:only-of-type {\n",
       "        vertical-align: middle;\n",
       "    }\n",
       "\n",
       "    .dataframe tbody tr th {\n",
       "        vertical-align: top;\n",
       "    }\n",
       "\n",
       "    .dataframe thead th {\n",
       "        text-align: right;\n",
       "    }\n",
       "</style>\n",
       "<table border=\"1\" class=\"dataframe\">\n",
       "  <thead>\n",
       "    <tr style=\"text-align: right;\">\n",
       "      <th></th>\n",
       "      <th>daily_average</th>\n",
       "      <th>30_day_avg</th>\n",
       "      <th>90_day_avg</th>\n",
       "    </tr>\n",
       "    <tr>\n",
       "      <th>sale_date</th>\n",
       "      <th></th>\n",
       "      <th></th>\n",
       "      <th></th>\n",
       "    </tr>\n",
       "  </thead>\n",
       "  <tbody>\n",
       "    <tr>\n",
       "      <th>2015-01-01 00:00:00+00:00</th>\n",
       "      <td>34.452</td>\n",
       "      <td>NaN</td>\n",
       "      <td>NaN</td>\n",
       "    </tr>\n",
       "    <tr>\n",
       "      <th>2015-01-02 00:00:00+00:00</th>\n",
       "      <td>37.438</td>\n",
       "      <td>NaN</td>\n",
       "      <td>NaN</td>\n",
       "    </tr>\n",
       "    <tr>\n",
       "      <th>2015-01-03 00:00:00+00:00</th>\n",
       "      <td>39.596</td>\n",
       "      <td>NaN</td>\n",
       "      <td>NaN</td>\n",
       "    </tr>\n",
       "    <tr>\n",
       "      <th>2015-01-04 00:00:00+00:00</th>\n",
       "      <td>42.202</td>\n",
       "      <td>NaN</td>\n",
       "      <td>NaN</td>\n",
       "    </tr>\n",
       "    <tr>\n",
       "      <th>2015-01-05 00:00:00+00:00</th>\n",
       "      <td>28.470</td>\n",
       "      <td>NaN</td>\n",
       "      <td>NaN</td>\n",
       "    </tr>\n",
       "  </tbody>\n",
       "</table>\n",
       "</div>"
      ],
      "text/plain": [
       "                           daily_average  30_day_avg  90_day_avg\n",
       "sale_date                                                       \n",
       "2015-01-01 00:00:00+00:00         34.452         NaN         NaN\n",
       "2015-01-02 00:00:00+00:00         37.438         NaN         NaN\n",
       "2015-01-03 00:00:00+00:00         39.596         NaN         NaN\n",
       "2015-01-04 00:00:00+00:00         42.202         NaN         NaN\n",
       "2015-01-05 00:00:00+00:00         28.470         NaN         NaN"
      ]
     },
     "execution_count": 53,
     "metadata": {},
     "output_type": "execute_result"
    }
   ],
   "source": [
    "rolling_example.head()"
   ]
  },
  {
   "cell_type": "code",
   "execution_count": 54,
   "metadata": {},
   "outputs": [
    {
     "data": {
      "image/png": "[encoded data removed]",
      "text/plain": [
       "<Figure size 1152x648 with 1 Axes>"
      ]
     },
     "metadata": {
      "needs_background": "light"
     },
     "output_type": "display_data"
    }
   ],
   "source": [
    "plt.figure(figsize=(16,9))\n",
    "plt.title(\"Example of Moving Averages\")\n",
    "plt.xlabel(\"Daily Breakdown\")\n",
    "plt.ylabel(\"Average Daily Sales Amount\")\n",
    "\n",
    "# It's useful to lower the alpha / opacity to reduce the noise\n",
    "\n",
    "plt.plot(rolling_example.index, rolling_example.daily_average, alpha=.15)\n",
    "plt.plot(rolling_example.index, rolling_example[\"30_day_avg\"])\n",
    "plt.plot(rolling_example.index, rolling_example[\"90_day_avg\"])\n",
    "\n",
    "plt.legend([\"daily_avg\", \"30 day rolling average\", \"90 day rolling average\"], loc=\"upper right\")\n",
    "\n",
    "plt.show()"
   ]
  },
  {
   "cell_type": "markdown",
   "metadata": {},
   "source": [
    "### Lagging and Lead\n",
    "\n",
    "- .shift moves the data backward and forward by a given amount\n",
    "\n",
    "- .diff finds the difference with the previous observation (or a specified further back observation)"
   ]
  },
  {
   "cell_type": "code",
   "execution_count": 55,
   "metadata": {},
   "outputs": [
    {
     "data": {
      "text/html": [
       "<div>\n",
       "<style scoped>\n",
       "    .dataframe tbody tr th:only-of-type {\n",
       "        vertical-align: middle;\n",
       "    }\n",
       "\n",
       "    .dataframe tbody tr th {\n",
       "        vertical-align: top;\n",
       "    }\n",
       "\n",
       "    .dataframe thead th {\n",
       "        text-align: right;\n",
       "    }\n",
       "</style>\n",
       "<table border=\"1\" class=\"dataframe\">\n",
       "  <thead>\n",
       "    <tr style=\"text-align: right;\">\n",
       "      <th></th>\n",
       "      <th>sale_amount</th>\n",
       "      <th>sale_id</th>\n",
       "      <th>store_address</th>\n",
       "      <th>store_city</th>\n",
       "      <th>store_id</th>\n",
       "      <th>store_state</th>\n",
       "      <th>store_zipcode</th>\n",
       "      <th>item_brand</th>\n",
       "      <th>item_id</th>\n",
       "      <th>item_name</th>\n",
       "      <th>item_price</th>\n",
       "      <th>item_upc12</th>\n",
       "      <th>item_upc14</th>\n",
       "      <th>shift(-1)</th>\n",
       "      <th>diff(1)</th>\n",
       "    </tr>\n",
       "    <tr>\n",
       "      <th>sale_date</th>\n",
       "      <th></th>\n",
       "      <th></th>\n",
       "      <th></th>\n",
       "      <th></th>\n",
       "      <th></th>\n",
       "      <th></th>\n",
       "      <th></th>\n",
       "      <th></th>\n",
       "      <th></th>\n",
       "      <th></th>\n",
       "      <th></th>\n",
       "      <th></th>\n",
       "      <th></th>\n",
       "      <th></th>\n",
       "      <th></th>\n",
       "    </tr>\n",
       "  </thead>\n",
       "  <tbody>\n",
       "    <tr>\n",
       "      <th>2013-01-01 00:00:00+00:00</th>\n",
       "      <td>13.0</td>\n",
       "      <td>1</td>\n",
       "      <td>12125 Alamo Ranch Pkwy</td>\n",
       "      <td>San Antonio</td>\n",
       "      <td>1</td>\n",
       "      <td>TX</td>\n",
       "      <td>78253</td>\n",
       "      <td>Riceland</td>\n",
       "      <td>1</td>\n",
       "      <td>Riceland American Jazmine Rice</td>\n",
       "      <td>0.84</td>\n",
       "      <td>35200264013</td>\n",
       "      <td>35200264013</td>\n",
       "      <td>26.0</td>\n",
       "      <td>NaN</td>\n",
       "    </tr>\n",
       "    <tr>\n",
       "      <th>2013-01-01 00:00:00+00:00</th>\n",
       "      <td>26.0</td>\n",
       "      <td>211817</td>\n",
       "      <td>12018 Perrin Beitel Rd</td>\n",
       "      <td>San Antonio</td>\n",
       "      <td>7</td>\n",
       "      <td>TX</td>\n",
       "      <td>78217</td>\n",
       "      <td>Mueller</td>\n",
       "      <td>12</td>\n",
       "      <td>Mueller Sport Care Basic Support Level Medium ...</td>\n",
       "      <td>8.40</td>\n",
       "      <td>74676640211</td>\n",
       "      <td>74676640211</td>\n",
       "      <td>27.0</td>\n",
       "      <td>13.0</td>\n",
       "    </tr>\n",
       "    <tr>\n",
       "      <th>2013-01-01 00:00:00+00:00</th>\n",
       "      <td>27.0</td>\n",
       "      <td>832657</td>\n",
       "      <td>12018 Perrin Beitel Rd</td>\n",
       "      <td>San Antonio</td>\n",
       "      <td>7</td>\n",
       "      <td>TX</td>\n",
       "      <td>78217</td>\n",
       "      <td>Mama Marys</td>\n",
       "      <td>46</td>\n",
       "      <td>Pizza Sauce</td>\n",
       "      <td>4.65</td>\n",
       "      <td>35457770664</td>\n",
       "      <td>35457770664</td>\n",
       "      <td>54.0</td>\n",
       "      <td>1.0</td>\n",
       "    </tr>\n",
       "    <tr>\n",
       "      <th>2013-01-01 00:00:00+00:00</th>\n",
       "      <td>54.0</td>\n",
       "      <td>213643</td>\n",
       "      <td>15000 San Pedro Ave</td>\n",
       "      <td>San Antonio</td>\n",
       "      <td>8</td>\n",
       "      <td>TX</td>\n",
       "      <td>78232</td>\n",
       "      <td>Mueller</td>\n",
       "      <td>12</td>\n",
       "      <td>Mueller Sport Care Basic Support Level Medium ...</td>\n",
       "      <td>8.40</td>\n",
       "      <td>74676640211</td>\n",
       "      <td>74676640211</td>\n",
       "      <td>35.0</td>\n",
       "      <td>27.0</td>\n",
       "    </tr>\n",
       "    <tr>\n",
       "      <th>2013-01-01 00:00:00+00:00</th>\n",
       "      <td>35.0</td>\n",
       "      <td>215469</td>\n",
       "      <td>735 SW Military Dr</td>\n",
       "      <td>San Antonio</td>\n",
       "      <td>9</td>\n",
       "      <td>TX</td>\n",
       "      <td>78221</td>\n",
       "      <td>Mueller</td>\n",
       "      <td>12</td>\n",
       "      <td>Mueller Sport Care Basic Support Level Medium ...</td>\n",
       "      <td>8.40</td>\n",
       "      <td>74676640211</td>\n",
       "      <td>74676640211</td>\n",
       "      <td>41.0</td>\n",
       "      <td>-19.0</td>\n",
       "    </tr>\n",
       "  </tbody>\n",
       "</table>\n",
       "</div>"
      ],
      "text/plain": [
       "                           sale_amount  sale_id           store_address  \\\n",
       "sale_date                                                                 \n",
       "2013-01-01 00:00:00+00:00         13.0        1  12125 Alamo Ranch Pkwy   \n",
       "2013-01-01 00:00:00+00:00         26.0   211817  12018 Perrin Beitel Rd   \n",
       "2013-01-01 00:00:00+00:00         27.0   832657  12018 Perrin Beitel Rd   \n",
       "2013-01-01 00:00:00+00:00         54.0   213643     15000 San Pedro Ave   \n",
       "2013-01-01 00:00:00+00:00         35.0   215469      735 SW Military Dr   \n",
       "\n",
       "                            store_city  store_id store_state  store_zipcode  \\\n",
       "sale_date                                                                     \n",
       "2013-01-01 00:00:00+00:00  San Antonio         1          TX          78253   \n",
       "2013-01-01 00:00:00+00:00  San Antonio         7          TX          78217   \n",
       "2013-01-01 00:00:00+00:00  San Antonio         7          TX          78217   \n",
       "2013-01-01 00:00:00+00:00  San Antonio         8          TX          78232   \n",
       "2013-01-01 00:00:00+00:00  San Antonio         9          TX          78221   \n",
       "\n",
       "                           item_brand  item_id  \\\n",
       "sale_date                                        \n",
       "2013-01-01 00:00:00+00:00    Riceland        1   \n",
       "2013-01-01 00:00:00+00:00     Mueller       12   \n",
       "2013-01-01 00:00:00+00:00  Mama Marys       46   \n",
       "2013-01-01 00:00:00+00:00     Mueller       12   \n",
       "2013-01-01 00:00:00+00:00     Mueller       12   \n",
       "\n",
       "                                                                   item_name  \\\n",
       "sale_date                                                                      \n",
       "2013-01-01 00:00:00+00:00                     Riceland American Jazmine Rice   \n",
       "2013-01-01 00:00:00+00:00  Mueller Sport Care Basic Support Level Medium ...   \n",
       "2013-01-01 00:00:00+00:00                                        Pizza Sauce   \n",
       "2013-01-01 00:00:00+00:00  Mueller Sport Care Basic Support Level Medium ...   \n",
       "2013-01-01 00:00:00+00:00  Mueller Sport Care Basic Support Level Medium ...   \n",
       "\n",
       "                           item_price   item_upc12   item_upc14  shift(-1)  \\\n",
       "sale_date                                                                    \n",
       "2013-01-01 00:00:00+00:00        0.84  35200264013  35200264013       26.0   \n",
       "2013-01-01 00:00:00+00:00        8.40  74676640211  74676640211       27.0   \n",
       "2013-01-01 00:00:00+00:00        4.65  35457770664  35457770664       54.0   \n",
       "2013-01-01 00:00:00+00:00        8.40  74676640211  74676640211       35.0   \n",
       "2013-01-01 00:00:00+00:00        8.40  74676640211  74676640211       41.0   \n",
       "\n",
       "                           diff(1)  \n",
       "sale_date                           \n",
       "2013-01-01 00:00:00+00:00      NaN  \n",
       "2013-01-01 00:00:00+00:00     13.0  \n",
       "2013-01-01 00:00:00+00:00      1.0  \n",
       "2013-01-01 00:00:00+00:00     27.0  \n",
       "2013-01-01 00:00:00+00:00    -19.0  "
      ]
     },
     "execution_count": 55,
     "metadata": {},
     "output_type": "execute_result"
    }
   ],
   "source": [
    "df[\"shift(-1)\"] = df.sale_amount.shift(-1)\n",
    "df[\"diff(1)\"] = df.sale_amount.diff(1)\n",
    "df.head()"
   ]
  },
  {
   "cell_type": "markdown",
   "metadata": {},
   "source": [
    "## Faith's Walkthrough"
   ]
  },
  {
   "cell_type": "code",
   "execution_count": 56,
   "metadata": {},
   "outputs": [],
   "source": [
    "import pandas as pd\n",
    "import numpy as np\n",
    "\n",
    "import seaborn as sns\n",
    "import matplotlib.pyplot as plt\n",
    "%matplotlib inline\n",
    "\n",
    "plt.rc('figure', figsize=(11, 9))\n",
    "plt.rc('font', size=13)\n",
    "\n",
    "import requests\n",
    "import os\n",
    "from datetime import timedelta, datetime as dt\n",
    "\n",
    "import warnings\n",
    "warnings.filterwarnings(\"ignore\")\n",
    "\n",
    "from acquire import get_store_data, german_energy_csv"
   ]
  },
  {
   "cell_type": "code",
   "execution_count": 57,
   "metadata": {},
   "outputs": [
    {
     "data": {
      "text/html": [
       "<div>\n",
       "<style scoped>\n",
       "    .dataframe tbody tr th:only-of-type {\n",
       "        vertical-align: middle;\n",
       "    }\n",
       "\n",
       "    .dataframe tbody tr th {\n",
       "        vertical-align: top;\n",
       "    }\n",
       "\n",
       "    .dataframe thead th {\n",
       "        text-align: right;\n",
       "    }\n",
       "</style>\n",
       "<table border=\"1\" class=\"dataframe\">\n",
       "  <thead>\n",
       "    <tr style=\"text-align: right;\">\n",
       "      <th></th>\n",
       "      <th>sale_amount</th>\n",
       "      <th>sale_date</th>\n",
       "      <th>sale_id</th>\n",
       "      <th>store_address</th>\n",
       "      <th>store_city</th>\n",
       "      <th>store_id</th>\n",
       "      <th>store_state</th>\n",
       "      <th>store_zipcode</th>\n",
       "      <th>item_brand</th>\n",
       "      <th>item_id</th>\n",
       "      <th>item_name</th>\n",
       "      <th>item_price</th>\n",
       "      <th>item_upc12</th>\n",
       "      <th>item_upc14</th>\n",
       "    </tr>\n",
       "  </thead>\n",
       "  <tbody>\n",
       "    <tr>\n",
       "      <th>0</th>\n",
       "      <td>13.0</td>\n",
       "      <td>2013-01-01 00:00:00+00:00</td>\n",
       "      <td>1</td>\n",
       "      <td>12125 Alamo Ranch Pkwy</td>\n",
       "      <td>San Antonio</td>\n",
       "      <td>1</td>\n",
       "      <td>TX</td>\n",
       "      <td>78253</td>\n",
       "      <td>Riceland</td>\n",
       "      <td>1</td>\n",
       "      <td>Riceland American Jazmine Rice</td>\n",
       "      <td>0.84</td>\n",
       "      <td>35200264013</td>\n",
       "      <td>35200264013</td>\n",
       "    </tr>\n",
       "    <tr>\n",
       "      <th>1</th>\n",
       "      <td>11.0</td>\n",
       "      <td>2013-01-02 00:00:00+00:00</td>\n",
       "      <td>2</td>\n",
       "      <td>12125 Alamo Ranch Pkwy</td>\n",
       "      <td>San Antonio</td>\n",
       "      <td>1</td>\n",
       "      <td>TX</td>\n",
       "      <td>78253</td>\n",
       "      <td>Riceland</td>\n",
       "      <td>1</td>\n",
       "      <td>Riceland American Jazmine Rice</td>\n",
       "      <td>0.84</td>\n",
       "      <td>35200264013</td>\n",
       "      <td>35200264013</td>\n",
       "    </tr>\n",
       "    <tr>\n",
       "      <th>2</th>\n",
       "      <td>14.0</td>\n",
       "      <td>2013-01-03 00:00:00+00:00</td>\n",
       "      <td>3</td>\n",
       "      <td>12125 Alamo Ranch Pkwy</td>\n",
       "      <td>San Antonio</td>\n",
       "      <td>1</td>\n",
       "      <td>TX</td>\n",
       "      <td>78253</td>\n",
       "      <td>Riceland</td>\n",
       "      <td>1</td>\n",
       "      <td>Riceland American Jazmine Rice</td>\n",
       "      <td>0.84</td>\n",
       "      <td>35200264013</td>\n",
       "      <td>35200264013</td>\n",
       "    </tr>\n",
       "    <tr>\n",
       "      <th>3</th>\n",
       "      <td>13.0</td>\n",
       "      <td>2013-01-04 00:00:00+00:00</td>\n",
       "      <td>4</td>\n",
       "      <td>12125 Alamo Ranch Pkwy</td>\n",
       "      <td>San Antonio</td>\n",
       "      <td>1</td>\n",
       "      <td>TX</td>\n",
       "      <td>78253</td>\n",
       "      <td>Riceland</td>\n",
       "      <td>1</td>\n",
       "      <td>Riceland American Jazmine Rice</td>\n",
       "      <td>0.84</td>\n",
       "      <td>35200264013</td>\n",
       "      <td>35200264013</td>\n",
       "    </tr>\n",
       "    <tr>\n",
       "      <th>4</th>\n",
       "      <td>10.0</td>\n",
       "      <td>2013-01-05 00:00:00+00:00</td>\n",
       "      <td>5</td>\n",
       "      <td>12125 Alamo Ranch Pkwy</td>\n",
       "      <td>San Antonio</td>\n",
       "      <td>1</td>\n",
       "      <td>TX</td>\n",
       "      <td>78253</td>\n",
       "      <td>Riceland</td>\n",
       "      <td>1</td>\n",
       "      <td>Riceland American Jazmine Rice</td>\n",
       "      <td>0.84</td>\n",
       "      <td>35200264013</td>\n",
       "      <td>35200264013</td>\n",
       "    </tr>\n",
       "  </tbody>\n",
       "</table>\n",
       "</div>"
      ],
      "text/plain": [
       "   sale_amount                  sale_date  sale_id           store_address  \\\n",
       "0         13.0  2013-01-01 00:00:00+00:00        1  12125 Alamo Ranch Pkwy   \n",
       "1         11.0  2013-01-02 00:00:00+00:00        2  12125 Alamo Ranch Pkwy   \n",
       "2         14.0  2013-01-03 00:00:00+00:00        3  12125 Alamo Ranch Pkwy   \n",
       "3         13.0  2013-01-04 00:00:00+00:00        4  12125 Alamo Ranch Pkwy   \n",
       "4         10.0  2013-01-05 00:00:00+00:00        5  12125 Alamo Ranch Pkwy   \n",
       "\n",
       "    store_city  store_id store_state  store_zipcode item_brand  item_id  \\\n",
       "0  San Antonio         1          TX          78253   Riceland        1   \n",
       "1  San Antonio         1          TX          78253   Riceland        1   \n",
       "2  San Antonio         1          TX          78253   Riceland        1   \n",
       "3  San Antonio         1          TX          78253   Riceland        1   \n",
       "4  San Antonio         1          TX          78253   Riceland        1   \n",
       "\n",
       "                        item_name  item_price   item_upc12   item_upc14  \n",
       "0  Riceland American Jazmine Rice        0.84  35200264013  35200264013  \n",
       "1  Riceland American Jazmine Rice        0.84  35200264013  35200264013  \n",
       "2  Riceland American Jazmine Rice        0.84  35200264013  35200264013  \n",
       "3  Riceland American Jazmine Rice        0.84  35200264013  35200264013  \n",
       "4  Riceland American Jazmine Rice        0.84  35200264013  35200264013  "
      ]
     },
     "execution_count": 57,
     "metadata": {},
     "output_type": "execute_result"
    }
   ],
   "source": [
    "# Get the store data using the acquire function:\n",
    "df = get_store_data()\n",
    "df.head()"
   ]
  },
  {
   "cell_type": "code",
   "execution_count": 58,
   "metadata": {},
   "outputs": [
    {
     "name": "stdout",
     "output_type": "stream",
     "text": [
      "<class 'pandas.core.frame.DataFrame'>\n",
      "Int64Index: 913000 entries, 0 to 912999\n",
      "Data columns (total 14 columns):\n",
      "sale_amount      913000 non-null float64\n",
      "sale_date        913000 non-null object\n",
      "sale_id          913000 non-null int64\n",
      "store_address    913000 non-null object\n",
      "store_city       913000 non-null object\n",
      "store_id         913000 non-null int64\n",
      "store_state      913000 non-null object\n",
      "store_zipcode    913000 non-null int64\n",
      "item_brand       913000 non-null object\n",
      "item_id          913000 non-null int64\n",
      "item_name        913000 non-null object\n",
      "item_price       913000 non-null float64\n",
      "item_upc12       913000 non-null int64\n",
      "item_upc14       913000 non-null int64\n",
      "dtypes: float64(2), int64(6), object(6)\n",
      "memory usage: 104.5+ MB\n"
     ]
    }
   ],
   "source": [
    "# take a look at it:\n",
    "df.info()"
   ]
  },
  {
   "cell_type": "markdown",
   "metadata": {},
   "source": [
    "**^^ Gotta convert the 'sale_date' column into a DateTime format using 'parse'**\n",
    "\n",
    "\"Parsing\" means to convert data from its original format into a more easily usable format.  "
   ]
  },
  {
   "cell_type": "code",
   "execution_count": 59,
   "metadata": {},
   "outputs": [],
   "source": [
    "df = pd.read_csv(\"big_df.csv\", parse_dates=True, index_col = \"sale_date\")"
   ]
  },
  {
   "cell_type": "code",
   "execution_count": 60,
   "metadata": {},
   "outputs": [
    {
     "data": {
      "text/html": [
       "<div>\n",
       "<style scoped>\n",
       "    .dataframe tbody tr th:only-of-type {\n",
       "        vertical-align: middle;\n",
       "    }\n",
       "\n",
       "    .dataframe tbody tr th {\n",
       "        vertical-align: top;\n",
       "    }\n",
       "\n",
       "    .dataframe thead th {\n",
       "        text-align: right;\n",
       "    }\n",
       "</style>\n",
       "<table border=\"1\" class=\"dataframe\">\n",
       "  <thead>\n",
       "    <tr style=\"text-align: right;\">\n",
       "      <th></th>\n",
       "      <th>Unnamed: 0</th>\n",
       "      <th>sale_amount</th>\n",
       "      <th>sale_id</th>\n",
       "      <th>store_address</th>\n",
       "      <th>store_city</th>\n",
       "      <th>store_id</th>\n",
       "      <th>store_state</th>\n",
       "      <th>store_zipcode</th>\n",
       "      <th>item_brand</th>\n",
       "      <th>item_id</th>\n",
       "      <th>item_name</th>\n",
       "      <th>item_price</th>\n",
       "      <th>item_upc12</th>\n",
       "      <th>item_upc14</th>\n",
       "    </tr>\n",
       "    <tr>\n",
       "      <th>sale_date</th>\n",
       "      <th></th>\n",
       "      <th></th>\n",
       "      <th></th>\n",
       "      <th></th>\n",
       "      <th></th>\n",
       "      <th></th>\n",
       "      <th></th>\n",
       "      <th></th>\n",
       "      <th></th>\n",
       "      <th></th>\n",
       "      <th></th>\n",
       "      <th></th>\n",
       "      <th></th>\n",
       "      <th></th>\n",
       "    </tr>\n",
       "  </thead>\n",
       "  <tbody>\n",
       "    <tr>\n",
       "      <th>2013-01-01 00:00:00+00:00</th>\n",
       "      <td>0</td>\n",
       "      <td>13.0</td>\n",
       "      <td>1</td>\n",
       "      <td>12125 Alamo Ranch Pkwy</td>\n",
       "      <td>San Antonio</td>\n",
       "      <td>1</td>\n",
       "      <td>TX</td>\n",
       "      <td>78253</td>\n",
       "      <td>Riceland</td>\n",
       "      <td>1</td>\n",
       "      <td>Riceland American Jazmine Rice</td>\n",
       "      <td>0.84</td>\n",
       "      <td>35200264013</td>\n",
       "      <td>35200264013</td>\n",
       "    </tr>\n",
       "    <tr>\n",
       "      <th>2013-01-02 00:00:00+00:00</th>\n",
       "      <td>1</td>\n",
       "      <td>11.0</td>\n",
       "      <td>2</td>\n",
       "      <td>12125 Alamo Ranch Pkwy</td>\n",
       "      <td>San Antonio</td>\n",
       "      <td>1</td>\n",
       "      <td>TX</td>\n",
       "      <td>78253</td>\n",
       "      <td>Riceland</td>\n",
       "      <td>1</td>\n",
       "      <td>Riceland American Jazmine Rice</td>\n",
       "      <td>0.84</td>\n",
       "      <td>35200264013</td>\n",
       "      <td>35200264013</td>\n",
       "    </tr>\n",
       "    <tr>\n",
       "      <th>2013-01-03 00:00:00+00:00</th>\n",
       "      <td>2</td>\n",
       "      <td>14.0</td>\n",
       "      <td>3</td>\n",
       "      <td>12125 Alamo Ranch Pkwy</td>\n",
       "      <td>San Antonio</td>\n",
       "      <td>1</td>\n",
       "      <td>TX</td>\n",
       "      <td>78253</td>\n",
       "      <td>Riceland</td>\n",
       "      <td>1</td>\n",
       "      <td>Riceland American Jazmine Rice</td>\n",
       "      <td>0.84</td>\n",
       "      <td>35200264013</td>\n",
       "      <td>35200264013</td>\n",
       "    </tr>\n",
       "    <tr>\n",
       "      <th>2013-01-04 00:00:00+00:00</th>\n",
       "      <td>3</td>\n",
       "      <td>13.0</td>\n",
       "      <td>4</td>\n",
       "      <td>12125 Alamo Ranch Pkwy</td>\n",
       "      <td>San Antonio</td>\n",
       "      <td>1</td>\n",
       "      <td>TX</td>\n",
       "      <td>78253</td>\n",
       "      <td>Riceland</td>\n",
       "      <td>1</td>\n",
       "      <td>Riceland American Jazmine Rice</td>\n",
       "      <td>0.84</td>\n",
       "      <td>35200264013</td>\n",
       "      <td>35200264013</td>\n",
       "    </tr>\n",
       "    <tr>\n",
       "      <th>2013-01-05 00:00:00+00:00</th>\n",
       "      <td>4</td>\n",
       "      <td>10.0</td>\n",
       "      <td>5</td>\n",
       "      <td>12125 Alamo Ranch Pkwy</td>\n",
       "      <td>San Antonio</td>\n",
       "      <td>1</td>\n",
       "      <td>TX</td>\n",
       "      <td>78253</td>\n",
       "      <td>Riceland</td>\n",
       "      <td>1</td>\n",
       "      <td>Riceland American Jazmine Rice</td>\n",
       "      <td>0.84</td>\n",
       "      <td>35200264013</td>\n",
       "      <td>35200264013</td>\n",
       "    </tr>\n",
       "  </tbody>\n",
       "</table>\n",
       "</div>"
      ],
      "text/plain": [
       "                           Unnamed: 0  sale_amount  sale_id  \\\n",
       "sale_date                                                     \n",
       "2013-01-01 00:00:00+00:00           0         13.0        1   \n",
       "2013-01-02 00:00:00+00:00           1         11.0        2   \n",
       "2013-01-03 00:00:00+00:00           2         14.0        3   \n",
       "2013-01-04 00:00:00+00:00           3         13.0        4   \n",
       "2013-01-05 00:00:00+00:00           4         10.0        5   \n",
       "\n",
       "                                    store_address   store_city  store_id  \\\n",
       "sale_date                                                                  \n",
       "2013-01-01 00:00:00+00:00  12125 Alamo Ranch Pkwy  San Antonio         1   \n",
       "2013-01-02 00:00:00+00:00  12125 Alamo Ranch Pkwy  San Antonio         1   \n",
       "2013-01-03 00:00:00+00:00  12125 Alamo Ranch Pkwy  San Antonio         1   \n",
       "2013-01-04 00:00:00+00:00  12125 Alamo Ranch Pkwy  San Antonio         1   \n",
       "2013-01-05 00:00:00+00:00  12125 Alamo Ranch Pkwy  San Antonio         1   \n",
       "\n",
       "                          store_state  store_zipcode item_brand  item_id  \\\n",
       "sale_date                                                                  \n",
       "2013-01-01 00:00:00+00:00          TX          78253   Riceland        1   \n",
       "2013-01-02 00:00:00+00:00          TX          78253   Riceland        1   \n",
       "2013-01-03 00:00:00+00:00          TX          78253   Riceland        1   \n",
       "2013-01-04 00:00:00+00:00          TX          78253   Riceland        1   \n",
       "2013-01-05 00:00:00+00:00          TX          78253   Riceland        1   \n",
       "\n",
       "                                                item_name  item_price  \\\n",
       "sale_date                                                               \n",
       "2013-01-01 00:00:00+00:00  Riceland American Jazmine Rice        0.84   \n",
       "2013-01-02 00:00:00+00:00  Riceland American Jazmine Rice        0.84   \n",
       "2013-01-03 00:00:00+00:00  Riceland American Jazmine Rice        0.84   \n",
       "2013-01-04 00:00:00+00:00  Riceland American Jazmine Rice        0.84   \n",
       "2013-01-05 00:00:00+00:00  Riceland American Jazmine Rice        0.84   \n",
       "\n",
       "                            item_upc12   item_upc14  \n",
       "sale_date                                            \n",
       "2013-01-01 00:00:00+00:00  35200264013  35200264013  \n",
       "2013-01-02 00:00:00+00:00  35200264013  35200264013  \n",
       "2013-01-03 00:00:00+00:00  35200264013  35200264013  \n",
       "2013-01-04 00:00:00+00:00  35200264013  35200264013  \n",
       "2013-01-05 00:00:00+00:00  35200264013  35200264013  "
      ]
     },
     "execution_count": 60,
     "metadata": {},
     "output_type": "execute_result"
    }
   ],
   "source": [
    "df.head()"
   ]
  },
  {
   "cell_type": "code",
   "execution_count": 61,
   "metadata": {},
   "outputs": [
    {
     "name": "stdout",
     "output_type": "stream",
     "text": [
      "<class 'pandas.core.frame.DataFrame'>\n",
      "DatetimeIndex: 913000 entries, 2013-01-01 00:00:00+00:00 to 2017-12-31 00:00:00+00:00\n",
      "Data columns (total 14 columns):\n",
      "Unnamed: 0       913000 non-null int64\n",
      "sale_amount      913000 non-null float64\n",
      "sale_id          913000 non-null int64\n",
      "store_address    913000 non-null object\n",
      "store_city       913000 non-null object\n",
      "store_id         913000 non-null int64\n",
      "store_state      913000 non-null object\n",
      "store_zipcode    913000 non-null int64\n",
      "item_brand       913000 non-null object\n",
      "item_id          913000 non-null int64\n",
      "item_name        913000 non-null object\n",
      "item_price       913000 non-null float64\n",
      "item_upc12       913000 non-null int64\n",
      "item_upc14       913000 non-null int64\n",
      "dtypes: float64(2), int64(7), object(5)\n",
      "memory usage: 104.5+ MB\n"
     ]
    }
   ],
   "source": [
    "df.info()"
   ]
  },
  {
   "cell_type": "code",
   "execution_count": 62,
   "metadata": {},
   "outputs": [
    {
     "data": {
      "text/plain": [
       "count    913000.000000\n",
       "mean          5.160400\n",
       "std           2.737764\n",
       "min           0.600000\n",
       "25%           2.970000\n",
       "50%           5.195000\n",
       "75%           7.520000\n",
       "max           9.640000\n",
       "Name: item_price, dtype: float64"
      ]
     },
     "execution_count": 62,
     "metadata": {},
     "output_type": "execute_result"
    }
   ],
   "source": [
    "df.item_price.describe()"
   ]
  },
  {
   "cell_type": "code",
   "execution_count": 63,
   "metadata": {},
   "outputs": [
    {
     "data": {
      "text/plain": [
       "Timestamp('2013-01-01 00:00:00+0000', tz='UTC')"
      ]
     },
     "execution_count": 63,
     "metadata": {},
     "output_type": "execute_result"
    }
   ],
   "source": [
    "df.index.min()\n",
    "\n",
    "# shows the first 'sale_date'"
   ]
  },
  {
   "cell_type": "code",
   "execution_count": 64,
   "metadata": {},
   "outputs": [
    {
     "name": "stdout",
     "output_type": "stream",
     "text": [
      "DatetimeIndex(['2013-01-01 00:00:00+00:00', '2013-01-02 00:00:00+00:00',\n",
      "               '2013-01-03 00:00:00+00:00', '2013-01-04 00:00:00+00:00',\n",
      "               '2013-01-05 00:00:00+00:00', '2013-01-06 00:00:00+00:00',\n",
      "               '2013-01-07 00:00:00+00:00', '2013-01-08 00:00:00+00:00',\n",
      "               '2013-01-09 00:00:00+00:00', '2013-01-10 00:00:00+00:00',\n",
      "               ...\n",
      "               '2017-12-22 00:00:00+00:00', '2017-12-23 00:00:00+00:00',\n",
      "               '2017-12-24 00:00:00+00:00', '2017-12-25 00:00:00+00:00',\n",
      "               '2017-12-26 00:00:00+00:00', '2017-12-27 00:00:00+00:00',\n",
      "               '2017-12-28 00:00:00+00:00', '2017-12-29 00:00:00+00:00',\n",
      "               '2017-12-30 00:00:00+00:00', '2017-12-31 00:00:00+00:00'],\n",
      "              dtype='datetime64[ns, UTC]', name='sale_date', length=913000, freq=None)\n"
     ]
    }
   ],
   "source": [
    "print(df.index)"
   ]
  },
  {
   "cell_type": "code",
   "execution_count": null,
   "metadata": {},
   "outputs": [],
   "source": []
  },
  {
   "cell_type": "code",
   "execution_count": null,
   "metadata": {},
   "outputs": [],
   "source": []
  },
  {
   "cell_type": "code",
   "execution_count": null,
   "metadata": {},
   "outputs": [],
   "source": []
  },
  {
   "cell_type": "code",
   "execution_count": null,
   "metadata": {},
   "outputs": [],
   "source": []
  },
  {
   "cell_type": "code",
   "execution_count": null,
   "metadata": {},
   "outputs": [],
   "source": []
  }
 ],
 "metadata": {
  "kernelspec": {
   "display_name": "Python 3",
   "language": "python",
   "name": "python3"
  },
  "language_info": {
   "codemirror_mode": {
    "name": "ipython",
    "version": 3
   },
   "file_extension": ".py",
   "mimetype": "text/x-python",
   "name": "python",
   "nbconvert_exporter": "python",
   "pygments_lexer": "ipython3",
   "version": "3.7.4"
  }
 },
 "nbformat": 4,
 "nbformat_minor": 2
}
